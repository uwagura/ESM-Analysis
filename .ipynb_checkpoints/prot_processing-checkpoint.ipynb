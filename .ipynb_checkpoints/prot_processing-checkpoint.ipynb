{
 "cells": [
  {
   "cell_type": "code",
   "execution_count": 1,
   "id": "fac7c41d-72a0-474d-b7ea-4a9cbeaab3c5",
   "metadata": {},
   "outputs": [
    {
     "name": "stderr",
     "output_type": "stream",
     "text": [
      "/gscratch/spe/uwagura/miniconda3/envs/prot_processing_env/lib/python3.8/site-packages/scipy/__init__.py:146: UserWarning: A NumPy version >=1.16.5 and <1.23.0 is required for this version of SciPy (detected version 1.23.1\n",
      "  warnings.warn(f\"A NumPy version >={np_minversion} and <{np_maxversion}\"\n"
     ]
    }
   ],
   "source": [
    "import h5py\n",
    "import numpy as np\n",
    "import os\n",
    "import pandas as pd\n",
    "import scipy as sp\n",
    "import scipy.special\n",
    "from zernike import *\n",
    "\n",
    "import matplotlib.pyplot as plt\n",
    "from helpers import *"
   ]
  },
  {
   "cell_type": "code",
   "execution_count": 2,
   "id": "2e090f0d-da99-4d83-af45-6646b5bfff48",
   "metadata": {},
   "outputs": [],
   "source": [
    "# Create relevant dictionaries for mapping amino acid names to their other forms\n",
    "\n",
    "aa_to_one_letter = {'ALA': 'A', 'CYS': 'C', 'ASP': 'D', 'GLU': 'E',\n",
    "                        'PHE': 'F', 'GLY': 'G', 'HIS': 'H', 'ILE': 'I',\n",
    "                        'LYS': 'K', 'LEU': 'L', 'MET': 'M', 'ASN': 'N',\n",
    "                        'PRO': 'P', 'GLN': 'Q', 'ARG': 'R', 'SER':'S',\n",
    "                        'THR': 'T', 'VAL': 'V', 'TRP': 'W', 'TYR': 'Y'}\n",
    "\n",
    "one_letter_to_aa = {'A': 'ALA', 'C': 'CYS',  'D': 'ASP',  'E': 'GLU',  'F': 'PHE',  'G': 'GLY',  'H': 'HIS',  'I': 'ILE',  'K': 'LYS',  'L': 'LEU',  'M': 'MET',  'N': 'ASN',  'P': 'PRO',  'Q': 'GLN',  'R': 'ARG',  'S': 'SER',  'T': 'THR',  'V': 'VAL',  'W': 'TRP',  'Y': 'TYR'}\n",
    "\n",
    "aa_to_ind_size = {'CYS': 2, 'ILE': 8, 'GLN': 12, 'VAL': 6, 'LYS': 13,\n",
    "       'PRO': 4, 'GLY': 0, 'THR': 5, 'PHE': 16, 'GLU': 14,\n",
    "       'HIS': 15, 'MET': 11, 'ASP': 7, 'LEU': 9, 'ARG': 17,\n",
    "       'TRP': 19, 'ALA': 1, 'ASN': 10, 'TYR': 18, 'SER': 3}\n",
    "\n",
    "ind_to_aa_size = {0: 'GLY', 1: 'ALA', 2: 'CYS', 3: 'SER', 4: 'PRO',\n",
    "       5: 'THR', 6: 'VAL', 7: 'ASP', 8: 'ILE', 9: 'LEU',\n",
    "       10: 'ASN', 11: 'MET', 12: 'GLN', 13: 'LYS', 14: 'GLU',\n",
    "       15: 'HIS', 16: 'PHE', 17: 'ARG', 18: 'TYR', 19: 'TRP'}\n",
    "\n",
    "aa_to_ind_one_letter = {'ALA': 0, 'CYS': 1, 'ASP': 2, 'GLU': 3,\n",
    "                        'PHE': 4, 'GLY': 5, 'HIS': 6, 'ILE': 7,\n",
    "                        'LYS': 8, 'LEU': 9, 'MET': 10, 'ASN': 11,\n",
    "                        'PRO': 12, 'GLN': 13, 'ARG': 14, 'SER':15,\n",
    "                        'THR': 16, 'VAL': 17, 'TRP': 18, 'TYR': 19}\n",
    "\n",
    "background_freqs = {'ALA': 7.4, 'CYS': 3.3, 'ASP': 5.9, 'GLU': 3.7,\n",
    "                        'PHE': 4., 'GLY': 7.4, 'HIS': 2.9, 'ILE': 3.8,\n",
    "                        'LYS': 7.2, 'LEU': 7.6, 'MET': 1.8, 'ASN': 4.4,\n",
    "                        'PRO': 5., 'GLN': 5.8, 'ARG': 4.2, 'SER': 8.1,\n",
    "                        'THR': 6.2, 'VAL': 6.8, 'TRP': 1.3, 'TYR': 3.3}\n",
    "\n",
    "ind_to_aa_one_letter = {0: 'ALA', 1: 'CYS', 2: 'ASP', 3: 'GLU',\n",
    "                        4: 'PHE', 5: 'GLY', 6: 'HIS', 7: 'ILE',\n",
    "                        8: 'LYS', 9: 'LEU', 10: 'MET', 11: 'ASN',\n",
    "                        12: 'PRO', 13: 'GLN', 14: 'ARG', 15: 'SER', \n",
    "                        16: 'THR', 17: 'VAL', 18: 'TRP', 19: 'TYR'}\n",
    "\n",
    "aa_to_ind_hydro = {'ALA': 8, 'ARG': 15, 'ASN': 17, 'ASP': 14,\n",
    "                   'CYS': 6, 'GLN': 13, 'GLU': 10, 'GLY': 11,\n",
    "                   'HIS': 18, 'ILE': 1, 'LEU': 0, 'LYS': 16,\n",
    "                   'MET': 5, 'PHE': 2, 'PRO': 19, 'SER': 12,\n",
    "                   'THR': 9, 'TRP': 3, 'TYR': 7, 'VAL': 4}\n",
    "\n",
    "ind_to_aa_hydro = {8: 'ALA', 15: 'ARG', 17: 'ASN', 14: 'ASP',\n",
    "                   6: 'CYS', 13: 'GLN', 10: 'GLU', 11: 'GLY',\n",
    "                   18: 'HIS', 1: 'ILE', 0: 'LEU', 16: 'LYS', \n",
    "                   5: 'MET', 2: 'PHE', 19: 'PRO', 12: 'SER',\n",
    "                   9: 'THR', 3: 'TRP', 7: 'TYR', 4: 'VAL'}"
   ]
  },
  {
   "cell_type": "code",
   "execution_count": 3,
   "id": "aa8ecab5-6d78-408f-84b7-59f027bc1cd6",
   "metadata": {},
   "outputs": [
    {
     "name": "stdout",
     "output_type": "stream",
     "text": [
      "['1AD0', '1AD9', '1ADQ', '1AQK', '1BBJ', '1BEY', '1BVK', '1DEE', '1DL7', '1DN0', '1DQL', '1FVD', '1GAF', '1H0D', '1I9R', '1IGM', '1IQD', '1JPT', '1JV5', '1KFA', '1L7I', '1MCO', '1MIM', '1NL0', '1RZ7', '1T3F', '1U6A', '1UJ3', '1VGE', '1W72', '1WT5', '1ZA6', '2AGJ', '2AJ3', '2B1H', '2CMR', '2D7T', '2EIZ', '2FEE', '2FJH', '2FL5', '2G75', '2H9G', '2J6E', '2JB5', '2QQK', '2QQN', '2QR0', '2QSC', '2R0K', '2R56', '2UZI', '2VXQ', '2VXV', '2WUC', '2XA8', '2XRA', '2XZC', '2ZKH', '3AAZ', '3D85', '3DGG', '3DIF', '3DVG', '3EO9', '3G04', '3G6A', '3GIZ', '3GJF', '3GKW', '3GO1', '3H0T', '3H42', '3HC3', '3HC4', '3HI6', '3HMX', '3K2U', '3KDM', '3KR3', '3KYM', '3L5Y', '3MA9', '3MLR', '3MXW', '3N85', '3N9G', '3NA9', '3NCJ', '3NFS', '3NH7', '3OAZ', '3P0Y', '3PGF', '3QCU', '3QOT', '3R1G', '3SDY', '3SE9', '3SQO', '3T2N', '3TNM', '3TNN', '3U0T', '3U30', '3UJI', '3UJJ', '3ULS', '3WD5', '4D9L', '4D9Q', '4DAG', '4DGY', '4DKE', '4DKF', '4DTG', '4FQI', '4G3Y', '4G5Z', '4G6A', '4G6M', '4GSD', '4HCR', '4HFU', '4HFW', '4HG4', '4HIE', '4HJ0', '4HPY', '4HS6', '4HS8', '4I77', '4J6R', '4JAM', '4JPI', '4JZN', '4KY1', '4LMQ', '4LST', '4LSU']\n"
     ]
    }
   ],
   "source": [
    "# Create list of proteins of interest\n",
    "\n",
    "control_proteins = [\"1ad0\", \"1ad9\", \"1adq\", \"1aqk\", \"1bbj\", \"1bey\", \"1bvk\", \"1dee\", \"1dl7\", \"1dn0\", \"1dql\", \"1fvd\", \"1gaf\", \"1h0d\", \"1i9r\", \"1igm\", \n",
    "                    \"1iqd\", \"1jpt\", \"1jv5\", \"1kfa\", \"1l7i\", \"1mco\", \"1mim\", \"1nl0\", \"1rz7\", \"1t3f\", \"1u6a\", \"1uj3\", \"1vge\", \"1w72\", \"1wt5\", \"1za6\",\n",
    "                    \"2agj\", \"2aj3\", \"2b1h\", \"2cmr\", \"2d7t\", \"2eiz\", \"2fee\", \"2fjh\", \"2fl5\", \"2g75\", \"2h9g\", \"2j6e\", \"2jb5\", \"2qqk\", \"2qqn\", \"2qr0\",\n",
    "                    \"2qsc\", \"2r0k\", \"2r56\", \"2uzi\", \"2vxq\", \"2vxv\", \"2wuc\", \"2xa8\", \"2xra\", \"2xzc\", \"2zkh\", \"3aaz\", \"3d85\", \"3dgg\", \"3dif\", \n",
    "                    \"3dvg\", \"3eo9\", \"3g04\", \"3g6a\", \"3giz\", \"3gjf\", \"3gkw\", \"3go1\", \"3h0t\", \"3h42\", \"3hc3\", \"3hc4\", \"3hi6\", \"3hmx\", \"3k2u\", \"3kdm\", \n",
    "                    \"3kr3\", \"3kym\", \"3l5y\", \"3ma9\", \"3mlr\", \"3mxw\", \"3n85\", \"3n9g\", \"3na9\", \"3ncj\", \"3nfs\", \"3nh7\", \"3oaz\", \"3p0y\", \"3pgf\", \"3qcu\", \n",
    "                    \"3qot\", \"3r1g\", \"3sdy\", \"3se9\", \"3sqo\", \"3t2n\", \"3tnm\", \"3tnn\", \"3u0t\", \"3u30\", \"3uji\", \"3ujj\", \"3uls\", \"3wd5\", \"4d9l\", \"4d9q\", \n",
    "                    \"4dag\", \"4dgy\", \"4dke\", \"4dkf\", \"4dtg\", \"4fqi\", \"4g3y\", \"4g5z\", \"4g6a\", \"4g6m\", \"4gsd\", \"4hcr\", \"4hfu\", \"4hfw\", \"4hg4\", \"4hie\", \n",
    "                    \"4hj0\", \"4hpy\", \"4hs6\", \"4hs8\", \"4i77\", \"4j6r\", \"4jam\", \"4jpi\", \"4jzn\", \"4ky1\", \"4lmq\", \"4lst\", \"4lsu\"]\n",
    "\n",
    "naive_proteins = [ \"2XZA\", \"3EYQ\", \"3F12\", \"3QOS\", \"3QOT\", \"4JPI\", \"4JDV\", \"3EYQ\", \"3F12\"]\n",
    "\n",
    "print([x.upper() for x in control_proteins])"
   ]
  },
  {
   "cell_type": "code",
   "execution_count": 4,
   "id": "10e96be4-b0c3-4c21-9cb0-a0dab4151d2a",
   "metadata": {},
   "outputs": [],
   "source": [
    "control_proteins = [s.upper().encode() for s in control_proteins]\n",
    "naive_proteins = [s.encode() for s in naive_proteins]"
   ]
  },
  {
   "cell_type": "code",
   "execution_count": 5,
   "id": "7743353a-0078-489d-a453-685bd9c86c50",
   "metadata": {},
   "outputs": [
    {
     "name": "stdout",
     "output_type": "stream",
     "text": [
      "PyRosetta-4 2022 [Rosetta PyRosetta4.Release.python38.linux 2022.16+release.839b00f59d92ff5270c37073376bd37d27064c7e 2022-04-19T17:48:30] retrieved from: http://www.pyrosetta.org\n",
      "(C) Copyright Rosetta Commons Member Institutions. Created in JHU by Sergey Lyskov and PyRosetta Team.\n",
      "\u001b[KProcessing |                                | 0.0%INFO:numexpr.utils:Note: NumExpr detected 52 cores but \"NUMEXPR_MAX_THREADS\" not set, so enforcing safe limit of 8.\n",
      "INFO:numexpr.utils:NumExpr defaulting to 8 threads.\n",
      "INFO:numexpr.utils:Note: NumExpr detected 52 cores but \"NUMEXPR_MAX_THREADS\" not set, so enforcing safe limit of 8.\n",
      "INFO:numexpr.utils:NumExpr defaulting to 8 threads.\n",
      "INFO:numexpr.utils:Note: NumExpr detected 52 cores but \"NUMEXPR_MAX_THREADS\" not set, so enforcing safe limit of 8.\n",
      "INFO:numexpr.utils:NumExpr defaulting to 8 threads.\n",
      "INFO:numexpr.utils:Note: NumExpr detected 52 cores but \"NUMEXPR_MAX_THREADS\" not set, so enforcing safe limit of 8.\n",
      "INFO:numexpr.utils:NumExpr defaulting to 8 threads.\n",
      "\u001b[KProcessing |#######                         | 22.2%INFO:numexpr.utils:Note: NumExpr detected 52 cores but \"NUMEXPR_MAX_THREADS\" not set, so enforcing safe limit of 8.\n",
      "INFO:numexpr.utils:NumExpr defaulting to 8 threads.\n",
      "INFO:numexpr.utils:Note: NumExpr detected 52 cores but \"NUMEXPR_MAX_THREADS\" not set, so enforcing safe limit of 8.\n",
      "INFO:numexpr.utils:NumExpr defaulting to 8 threads.\n",
      "INFO:numexpr.utils:Note: NumExpr detected 52 cores but \"NUMEXPR_MAX_THREADS\" not set, so enforcing safe limit of 8.\n",
      "INFO:numexpr.utils:NumExpr defaulting to 8 threads.\n",
      "INFO:numexpr.utils:Note: NumExpr detected 52 cores but \"NUMEXPR_MAX_THREADS\" not set, so enforcing safe limit of 8.\n",
      "INFO:numexpr.utils:NumExpr defaulting to 8 threads.\n",
      "INFO:numexpr.utils:Note: NumExpr detected 52 cores but \"NUMEXPR_MAX_THREADS\" not set, so enforcing safe limit of 8.\n",
      "INFO:numexpr.utils:NumExpr defaulting to 8 threads.\n",
      "\u001b[KProcessing |################################| 100.0%\n",
      "\u001b[?25h"
     ]
    }
   ],
   "source": [
    "# Save protein lists into hdf5 file\n",
    "with h5py.File('../input/proteins_spherical.hdf5','w') as proteins:\n",
    "    control = proteins.create_dataset(\"pdb_list_control\", (len(control_proteins)),'S4',control_proteins,)\n",
    "    naive = proteins.create_dataset(\"pdb_list_naive\", (len(naive_proteins)),'S4', naive_proteins)\n",
    "\n",
    "# Get the structural info for each protein, save it to a hspherical_df5 file\n",
    "ROS_PYTHON = '/gscratch/spe/uwagura/miniconda3/envs/prot_processing_env/bin/python'\n",
    "#!{ROS_PYTHON} /gscratch/spe/uwagura/tutorials/protein_holography/protein_holography/coordinates/get_structural_info.py --hdf5_out ../output/structure.hdf5 --pdb_list pdb_list_control --parallelism 1 --hdf5_in  ../input/proteins_spherical.hdf5 --pdb_dir ../pdbs/\n",
    "!{ROS_PYTHON} /gscratch/spe/uwagura/tutorials/protein_holography/protein_holography/coordinates/get_structural_info.py --hdf5_out ../output/structure_naive.hdf5 --pdb_list pdb_list_naive --parallelism 20 --hdf5_in  ../input/proteins_spherical.hdf5 --pdb_dir ../pdbs_naive/\n"
   ]
  },
  {
   "cell_type": "code",
   "execution_count": 8,
   "id": "0335d0cf-c314-45ae-a385-51e913c4881a",
   "metadata": {},
   "outputs": [
    {
     "name": "stdout",
     "output_type": "stream",
     "text": [
      "Datasets in hdf5 file:\n",
      "pdb_list_naive\n",
      "\n",
      "Size of dataset = (9,) \n",
      "\n",
      "np array dtype = [('pdb', 'S4'), ('atom_names', 'S4', (200000,)), ('elements', 'S1', (200000,)), ('res_ids', 'S5', (200000, 6)), ('coords', '<f8', (200000, 3)), ('SASAs', '<f8', (200000,)), ('charges', '<f8', (200000,))]\n"
     ]
    }
   ],
   "source": [
    "# Sanity check the output\n",
    "# with h5py.File('../output/structure.hdf5','r') as f:\n",
    "#     print('Datasets in hdf5 file:')\n",
    "#     f.visit(lambda x: print(x))\n",
    "#     print('\\nSize of dataset =',f['pdb_list_control'].shape,'\\n')\n",
    "#     print('np array dtype =',f['pdb_list_control'].dtype)\n",
    "#     protein_data = f['pdb_list_control'][:]\n",
    "    \n",
    "# Sanity check the output\n",
    "with h5py.File('../output/structure_naive.hdf5','r') as f:\n",
    "    print('Datasets in hdf5 file:')\n",
    "    f.visit(lambda x: print(x))\n",
    "    print('\\nSize of dataset =',f['pdb_list_naive'].shape,'\\n')\n",
    "    print('np array dtype =',f['pdb_list_naive'].dtype)\n",
    "    protein_data = f['pdb_list_naive'][:]    "
   ]
  },
  {
   "cell_type": "code",
   "execution_count": 9,
   "id": "19d703e1-d8ed-432e-ba54-de7a93d825c4",
   "metadata": {},
   "outputs": [
    {
     "name": "stdout",
     "output_type": "stream",
     "text": [
      "/gscratch/spe/uwagura/miniconda3/envs/prot_processing_env/lib/python3.8/site-packages/scipy/__init__.py:146: UserWarning: A NumPy version >=1.16.5 and <1.23.0 is required for this version of SciPy (detected version 1.23.1\n",
      "  warnings.warn(f\"A NumPy version >={np_minversion} and <{np_maxversion}\"\n",
      "9\n",
      "../output/structure_naive.hdf5\n",
      "[('res_id', 'S5', (6,)), ('atom_names', 'S4', (1700,)), ('elements', 'S1', (1700,)), ('res_ids', 'S5', (1700, 6)), ('coords', '<f8', (1700, 3)), ('SASAs', '<f8', (1700,)), ('charges', '<f8', (1700,))]\n",
      "200000\n",
      "writing hdf5 file\n",
      "calling parallel process\n",
      "\u001b[KProcessing |                                | 0.0%Data size = 9, cpus = 52, chunksize = 1\n",
      "100%|██████████████████████████████████████████| 9/9 [00:00<00:00, 14734.09it/s]\n",
      "Found array with 0 sample(s) (shape=(0, 3)) while a minimum of 1 is required.\n",
      "Error with b''\n",
      "\u001b[KProcessing |################################| 100.0%\n",
      "200000\n",
      "Done with parallel computing\n",
      "\u001b[?25h"
     ]
    }
   ],
   "source": [
    "# Get amino acids from the proteins\n",
    "#!python /gscratch/spe/mpun/protein_holography/coordinates/get_amino_acids.py --hdf5_out /gscratch/stf/mpun/tutorials/amino_acids/toy_amino_acids_val.hdf5 --protein_list val_pdb_list --parallelism 40 --hdf5_in /gscratch/stf/mpun/tutorials/amino_acids/toy_proteins_val.hdf5 --num_nhs 10000\n",
    "#with h5py.File(\"../output/aa_info.hdf5\") as aa_set:\n",
    "    #aa_set = aa.create_dataset(\"aa_list\", shape = len(control_proteins))\n",
    "ROS_PYTHON = '/gscratch/spe/uwagura/miniconda3/envs/prot_processing_env/bin/python'    \n",
    "#!{ROS_PYTHON} /gscratch/spe/uwagura/tutorials/protein_holography/protein_holography/coordinates/get_neighborhoods.py --hdf5_out ../output/aa_info.hdf5 --protein_list pdb_list_control --parallelism 40 --hdf5_in ../output/structure.hdf5 --num_nhs 200000 --r_max 10\n",
    "!{ROS_PYTHON} /gscratch/spe/uwagura/tutorials/protein_holography/protein_holography/coordinates/get_neighborhoods.py --hdf5_out ../output/aa_info_naive.hdf5 --protein_list pdb_list_naive --parallelism 40 --hdf5_in ../output/structure_naive.hdf5 --num_nhs 200000 --r_max 10\n"
   ]
  },
  {
   "cell_type": "code",
   "execution_count": 11,
   "id": "6c3b5962-be00-45b9-bd5e-2a47877c5b03",
   "metadata": {},
   "outputs": [
    {
     "name": "stdout",
     "output_type": "stream",
     "text": [
      "Datasets in hdf5 file:\n",
      "nh_list\n",
      "pdb_list_naive\n",
      "\n",
      "\n",
      "Datasize =  5499 \n",
      "\n",
      "[('res_id', 'S5', (6,)), ('atom_names', 'S4', (1700,)), ('elements', 'S1', (1700,)), ('res_ids', 'S5', (1700, 6)), ('coords', '<f8', (1700, 3)), ('SASAs', '<f8', (1700,)), ('charges', '<f8', (1700,))] \n",
      "\n",
      "[[b'M' b'' b'L' b'0' b' ' b'L']\n",
      " [b'D' b'' b'L' b'1' b' ' b'L']\n",
      " [b'I' b'' b'L' b'2' b' ' b'L']\n",
      " [b'V' b'' b'L' b'3' b' ' b'L']\n",
      " [b'M' b'' b'L' b'4' b' ' b'E']\n",
      " [b'T' b'' b'L' b'5' b' ' b'E']\n",
      " [b'Q' b'' b'L' b'6' b' ' b'E']\n",
      " [b'S' b'' b'L' b'7' b' ' b'E']\n",
      " [b'P' b'' b'L' b'8' b' ' b'L']\n",
      " [b'D' b'' b'L' b'9' b' ' b'L']]\n"
     ]
    }
   ],
   "source": [
    "# Sanity Check output from get_amino_acids.py\n",
    "# with h5py.File('../output/aa_info.hdf5','r') as f:\n",
    "#     print('Datasets in hdf5 file:')\n",
    "#     f.visit(lambda x: print(x))\n",
    "#     print('\\n')\n",
    "#     print('Datasize = ',np.min(np.argwhere(f['nh_list'][:,0] == b'')),'\\n')\n",
    "#     print(f['pdb_list_control'].dtype,'\\n')\n",
    "#     print(f['nh_list'][:10])\n",
    "#     val_aas = f['pdb_list_control'][:]\n",
    "\n",
    "with h5py.File('../output/aa_info_naive.hdf5','r') as f:\n",
    "    print('Datasets in hdf5 file:')\n",
    "    f.visit(lambda x: print(x))\n",
    "    print('\\n')\n",
    "    print('Datasize = ',np.min(np.argwhere(f['nh_list'][:,0] == b'')),'\\n')\n",
    "    print(f['pdb_list_naive'].dtype,'\\n')\n",
    "    print(f['nh_list'][:10])\n",
    "    val_aas = f['pdb_list_naive'][:]    "
   ]
  },
  {
   "cell_type": "code",
   "execution_count": 18,
   "id": "8dc265f6-cbd3-4006-8ba0-643000171396",
   "metadata": {},
   "outputs": [
    {
     "name": "stderr",
     "output_type": "stream",
     "text": [
      "/tmp/ipykernel_34880/3095280199.py:11: FutureWarning:\n",
      "\n",
      "elementwise comparison failed; returning scalar instead, but in the future will perform elementwise comparison\n",
      "\n"
     ]
    },
    {
     "data": {
      "text/plain": [
       "(164970, 11)"
      ]
     },
     "execution_count": 18,
     "metadata": {},
     "output_type": "execute_result"
    }
   ],
   "source": [
    "# Get amino acid data, save as pandas dataframe\n",
    "structural_dict = {x:[] for x in ['res_id','atom_names','elements','r','t','p','charges','SASAs','x','y','z']}\n",
    "for aas in val_aas:\n",
    "    if aas['res_id'][0] == b'':\n",
    "        continue\n",
    "    id = b''.join(aas['res_id'])\n",
    "    #print(id)\n",
    "    for i in range(30):    \n",
    "        for info in aas.dtype.names:\n",
    "            try:\n",
    "                if aas[info] == b'':\n",
    "                    continue\n",
    "            except:\n",
    "                a = 1\n",
    "            #print(info)\n",
    "            if info == 'res_id' or info == 'res_ids':\n",
    "                continue\n",
    "            if info == 'coords':\n",
    "                structural_dict['r'].append(aas[info][i][0])\n",
    "                structural_dict['t'].append(aas[info][i][1])\n",
    "                structural_dict['p'].append(aas[info][i][2])\n",
    "                structural_dict['x'].append(\n",
    "                    aas[info][i][0]*np.sin(aas[info][i][1])*np.cos(aas[info][i][2])\n",
    "                )\n",
    "                structural_dict['y'].append(\n",
    "                    aas[info][i][0]*np.sin(aas[info][i][1])*np.sin(aas[info][i][2])\n",
    "                )\n",
    "                structural_dict['z'].append(\n",
    "                    aas[info][i][0]*np.cos(aas[info][i][1])\n",
    "                )\n",
    "            else:\n",
    "                if info in ['atom_names','elements']:\n",
    "                    structural_dict[info].append(aas[info][i].decode('utf-8'))\n",
    "                else:\n",
    "                    structural_dict[info].append(aas[info][i])\n",
    "        structural_dict['res_id'].append(id)\n",
    "        #print(structural_dict)    \n",
    "structural_spherical_df = pd.DataFrame(structural_dict)\n",
    "\n",
    "structural_spherical_df.shape"
   ]
  },
  {
   "cell_type": "code",
   "execution_count": 19,
   "id": "2fe60e36-f4f2-4909-861c-c310091e67ff",
   "metadata": {},
   "outputs": [],
   "source": [
    "# structural_spherical_df.to_csv(\"ssdf.csv\")\n",
    "structural_spherical_df.to_csv(\"ssdf_naive.csv\")"
   ]
  },
  {
   "cell_type": "code",
   "execution_count": 7,
   "id": "91a35337-b93e-4764-98a9-62a68ab47c5d",
   "metadata": {},
   "outputs": [],
   "source": [
    "structural_spherical_df = pd.read_csv(\"ssdf.csv\")"
   ]
  },
  {
   "cell_type": "code",
   "execution_count": 20,
   "id": "078d7f92-719d-4fe6-a594-d3f628c67d6f",
   "metadata": {},
   "outputs": [
    {
     "name": "stdout",
     "output_type": "stream",
     "text": [
      "            res_id atom_names elements         r         t         p  \\\n",
      "0         b'ML0 L'        N          N  9.737980  1.729191 -2.074451   \n",
      "1         b'ML0 L'        C          C  9.884128  2.120879 -1.795078   \n",
      "2         b'ML0 L'       3HD1        H  8.439368  1.820540 -1.378524   \n",
      "3         b'ML0 L'        C          C  8.639944  1.959319 -2.159493   \n",
      "4         b'ML0 L'        HA         H  8.940679  2.222315 -2.020685   \n",
      "...            ...        ...      ...       ...       ...       ...   \n",
      "164965  b'ED224 L'        HD1        H  8.860825  1.443620  2.664192   \n",
      "164966  b'ED224 L'       1HD2        H  9.723548  1.612928  2.715800   \n",
      "164967  b'ED224 L'        HA         H  7.918565  1.686967  2.674050   \n",
      "164968  b'ED224 L'        CA         C  6.857289  1.711549  2.650474   \n",
      "164969  b'ED224 L'        CB         C  6.426238  1.530170  2.527281   \n",
      "\n",
      "         charges    SASAs         x         y         z  \n",
      "0      -0.604626  0.00000 -4.641000 -8.422000 -1.536000  \n",
      "1       0.688487  0.00000 -1.874000 -8.215000 -5.167000  \n",
      "2       0.096417  0.00000  1.562643 -8.026852 -2.085841  \n",
      "3       0.688487  0.00000 -4.440000 -6.650000 -3.273000  \n",
      "4       0.115779  6.14812 -3.091593 -6.401897 -5.421578  \n",
      "...          ...      ...       ...       ...       ...  \n",
      "164965  0.080499  0.00000 -7.806556  4.038422  1.123853  \n",
      "164966  0.223296  0.00000 -8.847491  4.012674 -0.409543  \n",
      "164967  0.115779  0.00000 -7.021087  3.544796 -0.917838  \n",
      "164968  0.090051  0.00000 -5.987000  3.202000 -0.962000  \n",
      "164969 -0.125998  0.00000 -5.247000  3.701000  0.261000  \n",
      "\n",
      "[164970 rows x 11 columns]\n"
     ]
    },
    {
     "name": "stderr",
     "output_type": "stream",
     "text": [
      "/tmp/ipykernel_34880/3674596686.py:6: UserWarning:\n",
      "\n",
      "Boolean Series key will be reindexed to match DataFrame index.\n",
      "\n"
     ]
    },
    {
     "data": {
      "application/vnd.plotly.v1+json": {
       "config": {
        "plotlyServerURL": "https://plot.ly"
       },
       "data": [
        {
         "hovertemplate": "elements=N<br>x=%{x}<br>y=%{y}<br>z=%{z}<br>atom_names=%{text}<extra></extra>",
         "legendgroup": "N",
         "marker": {
          "color": "#636efa",
          "symbol": "circle"
         },
         "mode": "markers+text",
         "name": "N",
         "scene": "scene",
         "showlegend": true,
         "text": [
          " N  ",
          " N  ",
          " NE2"
         ],
         "type": "scatter3d",
         "x": [
          -4.640999999999999,
          -3.2399999999999998,
          0.5120000000000001
         ],
         "y": [
          -8.421999999999993,
          -7.180999999999997,
          -3.7030000000000025
         ],
         "z": [
          -1.536,
          -3.491999999999998,
          -4.031999999999999
         ]
        },
        {
         "hovertemplate": "elements=C<br>x=%{x}<br>y=%{y}<br>z=%{z}<br>atom_names=%{text}<extra></extra>",
         "legendgroup": "C",
         "marker": {
          "color": "#EF553B",
          "symbol": "circle"
         },
         "mode": "markers+text",
         "name": "C",
         "scene": "scene",
         "showlegend": true,
         "text": [
          " C  ",
          " C  ",
          " CA ",
          " CB ",
          " CA ",
          " CD1",
          " CG ",
          " CD "
         ],
         "type": "scatter3d",
         "x": [
          -1.874,
          -4.439999999999999,
          -5.204,
          -1.3049999999999995,
          -2.4460000000000006,
          1.975999999999999,
          -1.7450000000000012,
          -0.5990000000000009
         ],
         "y": [
          -8.215000000000005,
          -6.65,
          -7.177000000000002,
          -5.941000000000003,
          -6.886000000000004,
          -7.117,
          -4.567000000000001,
          -3.7550000000000043
         ],
         "z": [
          -5.166999999999998,
          -3.273,
          -2.059,
          -4.336999999999999,
          -4.688999999999998,
          -1.652999999999998,
          -3.8749999999999982,
          -3.305999999999998
         ]
        },
        {
         "hovertemplate": "elements=H<br>x=%{x}<br>y=%{y}<br>z=%{z}<br>atom_names=%{text}<extra></extra>",
         "legendgroup": "H",
         "marker": {
          "color": "#00cc96",
          "symbol": "circle"
         },
         "mode": "markers+text",
         "name": "H",
         "scene": "scene",
         "showlegend": true,
         "text": [
          "3HD1",
          " HA ",
          " H  ",
          " HA ",
          "1HB ",
          "1HD1",
          "1HG1",
          "2HG ",
          "1HG ",
          "2HE2",
          "2HB ",
          "1HE2",
          "1HG2",
          "2HG2",
          "1HG ",
          "2HE2"
         ],
         "type": "scatter3d",
         "x": [
          1.562643234768905,
          -3.091593465414098,
          -2.867707700965537,
          -6.228656304897665,
          -0.6998010737452494,
          2.420566230365656,
          0.134477016620514,
          -2.502044140460569,
          -2.1598504494374846,
          0.5614225778204589,
          -0.6604374012599395,
          1.3005596082724404,
          -0.17618689198044013,
          -1.252984223838487,
          1.0063732857573005,
          2.6627254275467256
         ],
         "y": [
          -8.026851742913689,
          -6.401897229177108,
          -7.813658012265884,
          -7.368689737377581,
          -6.380714680782574,
          -6.509848364203294,
          -6.045577375442493,
          -4.681037462303138,
          -4.024849407889172,
          -4.185412018584393,
          -5.8093294235331445,
          -3.1808973405349827,
          -8.866271991394237,
          -8.710797003669436,
          -9.89618173542105,
          -8.716004766837935
         ],
         "z": [
          -2.0858407788131883,
          -5.421577778530176,
          -2.798283715345087,
          -2.3806359357932205,
          -3.5442293779633487,
          -2.4419613691860063,
          -1.729210858939075,
          -3.0991265395789216,
          -4.724748103896319,
          -4.906645105275801,
          -5.205950635199917,
          -3.7041319274010207,
          -0.9980858390820994,
          0.4092351813871417,
          0.9300142107070041,
          3.0400104100222776
         ]
        },
        {
         "hovertemplate": "elements=O<br>x=%{x}<br>y=%{y}<br>z=%{z}<br>atom_names=%{text}<extra></extra>",
         "legendgroup": "O",
         "marker": {
          "color": "#ab63fa",
          "symbol": "circle"
         },
         "mode": "markers+text",
         "name": "O",
         "scene": "scene",
         "showlegend": true,
         "text": [
          " O  ",
          " OE1",
          " OG1"
         ],
         "type": "scatter3d",
         "x": [
          -4.927999999999999,
          -0.7110000000000005,
          0.8759999999999988
         ],
         "y": [
          -5.78,
          -3.182000000000004,
          -9.011999999999997
         ],
         "z": [
          -3.996000000000001,
          -2.2249999999999983,
          4.022000000000001
         ]
        }
       ],
       "layout": {
        "legend": {
         "title": {
          "text": "elements"
         },
         "tracegroupgap": 0
        },
        "margin": {
         "t": 60
        },
        "scene": {
         "domain": {
          "x": [
           0,
           1
          ],
          "y": [
           0,
           1
          ]
         },
         "xaxis": {
          "title": {
           "text": "x"
          }
         },
         "yaxis": {
          "title": {
           "text": "y"
          }
         },
         "zaxis": {
          "title": {
           "text": "z"
          }
         }
        },
        "template": {
         "data": {
          "bar": [
           {
            "error_x": {
             "color": "#2a3f5f"
            },
            "error_y": {
             "color": "#2a3f5f"
            },
            "marker": {
             "line": {
              "color": "#E5ECF6",
              "width": 0.5
             },
             "pattern": {
              "fillmode": "overlay",
              "size": 10,
              "solidity": 0.2
             }
            },
            "type": "bar"
           }
          ],
          "barpolar": [
           {
            "marker": {
             "line": {
              "color": "#E5ECF6",
              "width": 0.5
             },
             "pattern": {
              "fillmode": "overlay",
              "size": 10,
              "solidity": 0.2
             }
            },
            "type": "barpolar"
           }
          ],
          "carpet": [
           {
            "aaxis": {
             "endlinecolor": "#2a3f5f",
             "gridcolor": "white",
             "linecolor": "white",
             "minorgridcolor": "white",
             "startlinecolor": "#2a3f5f"
            },
            "baxis": {
             "endlinecolor": "#2a3f5f",
             "gridcolor": "white",
             "linecolor": "white",
             "minorgridcolor": "white",
             "startlinecolor": "#2a3f5f"
            },
            "type": "carpet"
           }
          ],
          "choropleth": [
           {
            "colorbar": {
             "outlinewidth": 0,
             "ticks": ""
            },
            "type": "choropleth"
           }
          ],
          "contour": [
           {
            "colorbar": {
             "outlinewidth": 0,
             "ticks": ""
            },
            "colorscale": [
             [
              0,
              "#0d0887"
             ],
             [
              0.1111111111111111,
              "#46039f"
             ],
             [
              0.2222222222222222,
              "#7201a8"
             ],
             [
              0.3333333333333333,
              "#9c179e"
             ],
             [
              0.4444444444444444,
              "#bd3786"
             ],
             [
              0.5555555555555556,
              "#d8576b"
             ],
             [
              0.6666666666666666,
              "#ed7953"
             ],
             [
              0.7777777777777778,
              "#fb9f3a"
             ],
             [
              0.8888888888888888,
              "#fdca26"
             ],
             [
              1,
              "#f0f921"
             ]
            ],
            "type": "contour"
           }
          ],
          "contourcarpet": [
           {
            "colorbar": {
             "outlinewidth": 0,
             "ticks": ""
            },
            "type": "contourcarpet"
           }
          ],
          "heatmap": [
           {
            "colorbar": {
             "outlinewidth": 0,
             "ticks": ""
            },
            "colorscale": [
             [
              0,
              "#0d0887"
             ],
             [
              0.1111111111111111,
              "#46039f"
             ],
             [
              0.2222222222222222,
              "#7201a8"
             ],
             [
              0.3333333333333333,
              "#9c179e"
             ],
             [
              0.4444444444444444,
              "#bd3786"
             ],
             [
              0.5555555555555556,
              "#d8576b"
             ],
             [
              0.6666666666666666,
              "#ed7953"
             ],
             [
              0.7777777777777778,
              "#fb9f3a"
             ],
             [
              0.8888888888888888,
              "#fdca26"
             ],
             [
              1,
              "#f0f921"
             ]
            ],
            "type": "heatmap"
           }
          ],
          "heatmapgl": [
           {
            "colorbar": {
             "outlinewidth": 0,
             "ticks": ""
            },
            "colorscale": [
             [
              0,
              "#0d0887"
             ],
             [
              0.1111111111111111,
              "#46039f"
             ],
             [
              0.2222222222222222,
              "#7201a8"
             ],
             [
              0.3333333333333333,
              "#9c179e"
             ],
             [
              0.4444444444444444,
              "#bd3786"
             ],
             [
              0.5555555555555556,
              "#d8576b"
             ],
             [
              0.6666666666666666,
              "#ed7953"
             ],
             [
              0.7777777777777778,
              "#fb9f3a"
             ],
             [
              0.8888888888888888,
              "#fdca26"
             ],
             [
              1,
              "#f0f921"
             ]
            ],
            "type": "heatmapgl"
           }
          ],
          "histogram": [
           {
            "marker": {
             "pattern": {
              "fillmode": "overlay",
              "size": 10,
              "solidity": 0.2
             }
            },
            "type": "histogram"
           }
          ],
          "histogram2d": [
           {
            "colorbar": {
             "outlinewidth": 0,
             "ticks": ""
            },
            "colorscale": [
             [
              0,
              "#0d0887"
             ],
             [
              0.1111111111111111,
              "#46039f"
             ],
             [
              0.2222222222222222,
              "#7201a8"
             ],
             [
              0.3333333333333333,
              "#9c179e"
             ],
             [
              0.4444444444444444,
              "#bd3786"
             ],
             [
              0.5555555555555556,
              "#d8576b"
             ],
             [
              0.6666666666666666,
              "#ed7953"
             ],
             [
              0.7777777777777778,
              "#fb9f3a"
             ],
             [
              0.8888888888888888,
              "#fdca26"
             ],
             [
              1,
              "#f0f921"
             ]
            ],
            "type": "histogram2d"
           }
          ],
          "histogram2dcontour": [
           {
            "colorbar": {
             "outlinewidth": 0,
             "ticks": ""
            },
            "colorscale": [
             [
              0,
              "#0d0887"
             ],
             [
              0.1111111111111111,
              "#46039f"
             ],
             [
              0.2222222222222222,
              "#7201a8"
             ],
             [
              0.3333333333333333,
              "#9c179e"
             ],
             [
              0.4444444444444444,
              "#bd3786"
             ],
             [
              0.5555555555555556,
              "#d8576b"
             ],
             [
              0.6666666666666666,
              "#ed7953"
             ],
             [
              0.7777777777777778,
              "#fb9f3a"
             ],
             [
              0.8888888888888888,
              "#fdca26"
             ],
             [
              1,
              "#f0f921"
             ]
            ],
            "type": "histogram2dcontour"
           }
          ],
          "mesh3d": [
           {
            "colorbar": {
             "outlinewidth": 0,
             "ticks": ""
            },
            "type": "mesh3d"
           }
          ],
          "parcoords": [
           {
            "line": {
             "colorbar": {
              "outlinewidth": 0,
              "ticks": ""
             }
            },
            "type": "parcoords"
           }
          ],
          "pie": [
           {
            "automargin": true,
            "type": "pie"
           }
          ],
          "scatter": [
           {
            "fillpattern": {
             "fillmode": "overlay",
             "size": 10,
             "solidity": 0.2
            },
            "type": "scatter"
           }
          ],
          "scatter3d": [
           {
            "line": {
             "colorbar": {
              "outlinewidth": 0,
              "ticks": ""
             }
            },
            "marker": {
             "colorbar": {
              "outlinewidth": 0,
              "ticks": ""
             }
            },
            "type": "scatter3d"
           }
          ],
          "scattercarpet": [
           {
            "marker": {
             "colorbar": {
              "outlinewidth": 0,
              "ticks": ""
             }
            },
            "type": "scattercarpet"
           }
          ],
          "scattergeo": [
           {
            "marker": {
             "colorbar": {
              "outlinewidth": 0,
              "ticks": ""
             }
            },
            "type": "scattergeo"
           }
          ],
          "scattergl": [
           {
            "marker": {
             "colorbar": {
              "outlinewidth": 0,
              "ticks": ""
             }
            },
            "type": "scattergl"
           }
          ],
          "scattermapbox": [
           {
            "marker": {
             "colorbar": {
              "outlinewidth": 0,
              "ticks": ""
             }
            },
            "type": "scattermapbox"
           }
          ],
          "scatterpolar": [
           {
            "marker": {
             "colorbar": {
              "outlinewidth": 0,
              "ticks": ""
             }
            },
            "type": "scatterpolar"
           }
          ],
          "scatterpolargl": [
           {
            "marker": {
             "colorbar": {
              "outlinewidth": 0,
              "ticks": ""
             }
            },
            "type": "scatterpolargl"
           }
          ],
          "scatterternary": [
           {
            "marker": {
             "colorbar": {
              "outlinewidth": 0,
              "ticks": ""
             }
            },
            "type": "scatterternary"
           }
          ],
          "surface": [
           {
            "colorbar": {
             "outlinewidth": 0,
             "ticks": ""
            },
            "colorscale": [
             [
              0,
              "#0d0887"
             ],
             [
              0.1111111111111111,
              "#46039f"
             ],
             [
              0.2222222222222222,
              "#7201a8"
             ],
             [
              0.3333333333333333,
              "#9c179e"
             ],
             [
              0.4444444444444444,
              "#bd3786"
             ],
             [
              0.5555555555555556,
              "#d8576b"
             ],
             [
              0.6666666666666666,
              "#ed7953"
             ],
             [
              0.7777777777777778,
              "#fb9f3a"
             ],
             [
              0.8888888888888888,
              "#fdca26"
             ],
             [
              1,
              "#f0f921"
             ]
            ],
            "type": "surface"
           }
          ],
          "table": [
           {
            "cells": {
             "fill": {
              "color": "#EBF0F8"
             },
             "line": {
              "color": "white"
             }
            },
            "header": {
             "fill": {
              "color": "#C8D4E3"
             },
             "line": {
              "color": "white"
             }
            },
            "type": "table"
           }
          ]
         },
         "layout": {
          "annotationdefaults": {
           "arrowcolor": "#2a3f5f",
           "arrowhead": 0,
           "arrowwidth": 1
          },
          "autotypenumbers": "strict",
          "coloraxis": {
           "colorbar": {
            "outlinewidth": 0,
            "ticks": ""
           }
          },
          "colorscale": {
           "diverging": [
            [
             0,
             "#8e0152"
            ],
            [
             0.1,
             "#c51b7d"
            ],
            [
             0.2,
             "#de77ae"
            ],
            [
             0.3,
             "#f1b6da"
            ],
            [
             0.4,
             "#fde0ef"
            ],
            [
             0.5,
             "#f7f7f7"
            ],
            [
             0.6,
             "#e6f5d0"
            ],
            [
             0.7,
             "#b8e186"
            ],
            [
             0.8,
             "#7fbc41"
            ],
            [
             0.9,
             "#4d9221"
            ],
            [
             1,
             "#276419"
            ]
           ],
           "sequential": [
            [
             0,
             "#0d0887"
            ],
            [
             0.1111111111111111,
             "#46039f"
            ],
            [
             0.2222222222222222,
             "#7201a8"
            ],
            [
             0.3333333333333333,
             "#9c179e"
            ],
            [
             0.4444444444444444,
             "#bd3786"
            ],
            [
             0.5555555555555556,
             "#d8576b"
            ],
            [
             0.6666666666666666,
             "#ed7953"
            ],
            [
             0.7777777777777778,
             "#fb9f3a"
            ],
            [
             0.8888888888888888,
             "#fdca26"
            ],
            [
             1,
             "#f0f921"
            ]
           ],
           "sequentialminus": [
            [
             0,
             "#0d0887"
            ],
            [
             0.1111111111111111,
             "#46039f"
            ],
            [
             0.2222222222222222,
             "#7201a8"
            ],
            [
             0.3333333333333333,
             "#9c179e"
            ],
            [
             0.4444444444444444,
             "#bd3786"
            ],
            [
             0.5555555555555556,
             "#d8576b"
            ],
            [
             0.6666666666666666,
             "#ed7953"
            ],
            [
             0.7777777777777778,
             "#fb9f3a"
            ],
            [
             0.8888888888888888,
             "#fdca26"
            ],
            [
             1,
             "#f0f921"
            ]
           ]
          },
          "colorway": [
           "#636efa",
           "#EF553B",
           "#00cc96",
           "#ab63fa",
           "#FFA15A",
           "#19d3f3",
           "#FF6692",
           "#B6E880",
           "#FF97FF",
           "#FECB52"
          ],
          "font": {
           "color": "#2a3f5f"
          },
          "geo": {
           "bgcolor": "white",
           "lakecolor": "white",
           "landcolor": "#E5ECF6",
           "showlakes": true,
           "showland": true,
           "subunitcolor": "white"
          },
          "hoverlabel": {
           "align": "left"
          },
          "hovermode": "closest",
          "mapbox": {
           "style": "light"
          },
          "paper_bgcolor": "white",
          "plot_bgcolor": "#E5ECF6",
          "polar": {
           "angularaxis": {
            "gridcolor": "white",
            "linecolor": "white",
            "ticks": ""
           },
           "bgcolor": "#E5ECF6",
           "radialaxis": {
            "gridcolor": "white",
            "linecolor": "white",
            "ticks": ""
           }
          },
          "scene": {
           "xaxis": {
            "backgroundcolor": "#E5ECF6",
            "gridcolor": "white",
            "gridwidth": 2,
            "linecolor": "white",
            "showbackground": true,
            "ticks": "",
            "zerolinecolor": "white"
           },
           "yaxis": {
            "backgroundcolor": "#E5ECF6",
            "gridcolor": "white",
            "gridwidth": 2,
            "linecolor": "white",
            "showbackground": true,
            "ticks": "",
            "zerolinecolor": "white"
           },
           "zaxis": {
            "backgroundcolor": "#E5ECF6",
            "gridcolor": "white",
            "gridwidth": 2,
            "linecolor": "white",
            "showbackground": true,
            "ticks": "",
            "zerolinecolor": "white"
           }
          },
          "shapedefaults": {
           "line": {
            "color": "#2a3f5f"
           }
          },
          "ternary": {
           "aaxis": {
            "gridcolor": "white",
            "linecolor": "white",
            "ticks": ""
           },
           "baxis": {
            "gridcolor": "white",
            "linecolor": "white",
            "ticks": ""
           },
           "bgcolor": "#E5ECF6",
           "caxis": {
            "gridcolor": "white",
            "linecolor": "white",
            "ticks": ""
           }
          },
          "title": {
           "x": 0.05
          },
          "xaxis": {
           "automargin": true,
           "gridcolor": "white",
           "linecolor": "white",
           "ticks": "",
           "title": {
            "standoff": 15
           },
           "zerolinecolor": "white",
           "zerolinewidth": 2
          },
          "yaxis": {
           "automargin": true,
           "gridcolor": "white",
           "linecolor": "white",
           "ticks": "",
           "title": {
            "standoff": 15
           },
           "zerolinecolor": "white",
           "zerolinewidth": 2
          }
         }
        }
       }
      },
      "text/html": [
       "<div>                            <div id=\"c5b81d00-849f-49a1-8634-4c3ab07a2021\" class=\"plotly-graph-div\" style=\"height:525px; width:100%;\"></div>            <script type=\"text/javascript\">                require([\"plotly\"], function(Plotly) {                    window.PLOTLYENV=window.PLOTLYENV || {};                                    if (document.getElementById(\"c5b81d00-849f-49a1-8634-4c3ab07a2021\")) {                    Plotly.newPlot(                        \"c5b81d00-849f-49a1-8634-4c3ab07a2021\",                        [{\"hovertemplate\":\"elements=N<br>x=%{x}<br>y=%{y}<br>z=%{z}<br>atom_names=%{text}<extra></extra>\",\"legendgroup\":\"N\",\"marker\":{\"color\":\"#636efa\",\"symbol\":\"circle\"},\"mode\":\"markers+text\",\"name\":\"N\",\"scene\":\"scene\",\"showlegend\":true,\"text\":[\" N  \",\" N  \",\" NE2\"],\"x\":[-4.640999999999999,-3.2399999999999998,0.5120000000000001],\"y\":[-8.421999999999993,-7.180999999999997,-3.7030000000000025],\"z\":[-1.536,-3.491999999999998,-4.031999999999999],\"type\":\"scatter3d\"},{\"hovertemplate\":\"elements=C<br>x=%{x}<br>y=%{y}<br>z=%{z}<br>atom_names=%{text}<extra></extra>\",\"legendgroup\":\"C\",\"marker\":{\"color\":\"#EF553B\",\"symbol\":\"circle\"},\"mode\":\"markers+text\",\"name\":\"C\",\"scene\":\"scene\",\"showlegend\":true,\"text\":[\" C  \",\" C  \",\" CA \",\" CB \",\" CA \",\" CD1\",\" CG \",\" CD \"],\"x\":[-1.874,-4.439999999999999,-5.204,-1.3049999999999995,-2.4460000000000006,1.975999999999999,-1.7450000000000012,-0.5990000000000009],\"y\":[-8.215000000000005,-6.65,-7.177000000000002,-5.941000000000003,-6.886000000000004,-7.117,-4.567000000000001,-3.7550000000000043],\"z\":[-5.166999999999998,-3.273,-2.059,-4.336999999999999,-4.688999999999998,-1.652999999999998,-3.8749999999999982,-3.305999999999998],\"type\":\"scatter3d\"},{\"hovertemplate\":\"elements=H<br>x=%{x}<br>y=%{y}<br>z=%{z}<br>atom_names=%{text}<extra></extra>\",\"legendgroup\":\"H\",\"marker\":{\"color\":\"#00cc96\",\"symbol\":\"circle\"},\"mode\":\"markers+text\",\"name\":\"H\",\"scene\":\"scene\",\"showlegend\":true,\"text\":[\"3HD1\",\" HA \",\" H  \",\" HA \",\"1HB \",\"1HD1\",\"1HG1\",\"2HG \",\"1HG \",\"2HE2\",\"2HB \",\"1HE2\",\"1HG2\",\"2HG2\",\"1HG \",\"2HE2\"],\"x\":[1.562643234768905,-3.091593465414098,-2.867707700965537,-6.228656304897665,-0.6998010737452494,2.420566230365656,0.134477016620514,-2.502044140460569,-2.1598504494374846,0.5614225778204589,-0.6604374012599395,1.3005596082724404,-0.17618689198044013,-1.252984223838487,1.0063732857573005,2.6627254275467256],\"y\":[-8.026851742913689,-6.401897229177108,-7.813658012265884,-7.368689737377581,-6.380714680782574,-6.509848364203294,-6.045577375442493,-4.681037462303138,-4.024849407889172,-4.185412018584393,-5.8093294235331445,-3.1808973405349827,-8.866271991394237,-8.710797003669436,-9.89618173542105,-8.716004766837935],\"z\":[-2.0858407788131883,-5.421577778530176,-2.798283715345087,-2.3806359357932205,-3.5442293779633487,-2.4419613691860063,-1.729210858939075,-3.0991265395789216,-4.724748103896319,-4.906645105275801,-5.205950635199917,-3.7041319274010207,-0.9980858390820994,0.4092351813871417,0.9300142107070041,3.0400104100222776],\"type\":\"scatter3d\"},{\"hovertemplate\":\"elements=O<br>x=%{x}<br>y=%{y}<br>z=%{z}<br>atom_names=%{text}<extra></extra>\",\"legendgroup\":\"O\",\"marker\":{\"color\":\"#ab63fa\",\"symbol\":\"circle\"},\"mode\":\"markers+text\",\"name\":\"O\",\"scene\":\"scene\",\"showlegend\":true,\"text\":[\" O  \",\" OE1\",\" OG1\"],\"x\":[-4.927999999999999,-0.7110000000000005,0.8759999999999988],\"y\":[-5.78,-3.182000000000004,-9.011999999999997],\"z\":[-3.996000000000001,-2.2249999999999983,4.022000000000001],\"type\":\"scatter3d\"}],                        {\"template\":{\"data\":{\"histogram2dcontour\":[{\"type\":\"histogram2dcontour\",\"colorbar\":{\"outlinewidth\":0,\"ticks\":\"\"},\"colorscale\":[[0.0,\"#0d0887\"],[0.1111111111111111,\"#46039f\"],[0.2222222222222222,\"#7201a8\"],[0.3333333333333333,\"#9c179e\"],[0.4444444444444444,\"#bd3786\"],[0.5555555555555556,\"#d8576b\"],[0.6666666666666666,\"#ed7953\"],[0.7777777777777778,\"#fb9f3a\"],[0.8888888888888888,\"#fdca26\"],[1.0,\"#f0f921\"]]}],\"choropleth\":[{\"type\":\"choropleth\",\"colorbar\":{\"outlinewidth\":0,\"ticks\":\"\"}}],\"histogram2d\":[{\"type\":\"histogram2d\",\"colorbar\":{\"outlinewidth\":0,\"ticks\":\"\"},\"colorscale\":[[0.0,\"#0d0887\"],[0.1111111111111111,\"#46039f\"],[0.2222222222222222,\"#7201a8\"],[0.3333333333333333,\"#9c179e\"],[0.4444444444444444,\"#bd3786\"],[0.5555555555555556,\"#d8576b\"],[0.6666666666666666,\"#ed7953\"],[0.7777777777777778,\"#fb9f3a\"],[0.8888888888888888,\"#fdca26\"],[1.0,\"#f0f921\"]]}],\"heatmap\":[{\"type\":\"heatmap\",\"colorbar\":{\"outlinewidth\":0,\"ticks\":\"\"},\"colorscale\":[[0.0,\"#0d0887\"],[0.1111111111111111,\"#46039f\"],[0.2222222222222222,\"#7201a8\"],[0.3333333333333333,\"#9c179e\"],[0.4444444444444444,\"#bd3786\"],[0.5555555555555556,\"#d8576b\"],[0.6666666666666666,\"#ed7953\"],[0.7777777777777778,\"#fb9f3a\"],[0.8888888888888888,\"#fdca26\"],[1.0,\"#f0f921\"]]}],\"heatmapgl\":[{\"type\":\"heatmapgl\",\"colorbar\":{\"outlinewidth\":0,\"ticks\":\"\"},\"colorscale\":[[0.0,\"#0d0887\"],[0.1111111111111111,\"#46039f\"],[0.2222222222222222,\"#7201a8\"],[0.3333333333333333,\"#9c179e\"],[0.4444444444444444,\"#bd3786\"],[0.5555555555555556,\"#d8576b\"],[0.6666666666666666,\"#ed7953\"],[0.7777777777777778,\"#fb9f3a\"],[0.8888888888888888,\"#fdca26\"],[1.0,\"#f0f921\"]]}],\"contourcarpet\":[{\"type\":\"contourcarpet\",\"colorbar\":{\"outlinewidth\":0,\"ticks\":\"\"}}],\"contour\":[{\"type\":\"contour\",\"colorbar\":{\"outlinewidth\":0,\"ticks\":\"\"},\"colorscale\":[[0.0,\"#0d0887\"],[0.1111111111111111,\"#46039f\"],[0.2222222222222222,\"#7201a8\"],[0.3333333333333333,\"#9c179e\"],[0.4444444444444444,\"#bd3786\"],[0.5555555555555556,\"#d8576b\"],[0.6666666666666666,\"#ed7953\"],[0.7777777777777778,\"#fb9f3a\"],[0.8888888888888888,\"#fdca26\"],[1.0,\"#f0f921\"]]}],\"surface\":[{\"type\":\"surface\",\"colorbar\":{\"outlinewidth\":0,\"ticks\":\"\"},\"colorscale\":[[0.0,\"#0d0887\"],[0.1111111111111111,\"#46039f\"],[0.2222222222222222,\"#7201a8\"],[0.3333333333333333,\"#9c179e\"],[0.4444444444444444,\"#bd3786\"],[0.5555555555555556,\"#d8576b\"],[0.6666666666666666,\"#ed7953\"],[0.7777777777777778,\"#fb9f3a\"],[0.8888888888888888,\"#fdca26\"],[1.0,\"#f0f921\"]]}],\"mesh3d\":[{\"type\":\"mesh3d\",\"colorbar\":{\"outlinewidth\":0,\"ticks\":\"\"}}],\"scatter\":[{\"fillpattern\":{\"fillmode\":\"overlay\",\"size\":10,\"solidity\":0.2},\"type\":\"scatter\"}],\"parcoords\":[{\"type\":\"parcoords\",\"line\":{\"colorbar\":{\"outlinewidth\":0,\"ticks\":\"\"}}}],\"scatterpolargl\":[{\"type\":\"scatterpolargl\",\"marker\":{\"colorbar\":{\"outlinewidth\":0,\"ticks\":\"\"}}}],\"bar\":[{\"error_x\":{\"color\":\"#2a3f5f\"},\"error_y\":{\"color\":\"#2a3f5f\"},\"marker\":{\"line\":{\"color\":\"#E5ECF6\",\"width\":0.5},\"pattern\":{\"fillmode\":\"overlay\",\"size\":10,\"solidity\":0.2}},\"type\":\"bar\"}],\"scattergeo\":[{\"type\":\"scattergeo\",\"marker\":{\"colorbar\":{\"outlinewidth\":0,\"ticks\":\"\"}}}],\"scatterpolar\":[{\"type\":\"scatterpolar\",\"marker\":{\"colorbar\":{\"outlinewidth\":0,\"ticks\":\"\"}}}],\"histogram\":[{\"marker\":{\"pattern\":{\"fillmode\":\"overlay\",\"size\":10,\"solidity\":0.2}},\"type\":\"histogram\"}],\"scattergl\":[{\"type\":\"scattergl\",\"marker\":{\"colorbar\":{\"outlinewidth\":0,\"ticks\":\"\"}}}],\"scatter3d\":[{\"type\":\"scatter3d\",\"line\":{\"colorbar\":{\"outlinewidth\":0,\"ticks\":\"\"}},\"marker\":{\"colorbar\":{\"outlinewidth\":0,\"ticks\":\"\"}}}],\"scattermapbox\":[{\"type\":\"scattermapbox\",\"marker\":{\"colorbar\":{\"outlinewidth\":0,\"ticks\":\"\"}}}],\"scatterternary\":[{\"type\":\"scatterternary\",\"marker\":{\"colorbar\":{\"outlinewidth\":0,\"ticks\":\"\"}}}],\"scattercarpet\":[{\"type\":\"scattercarpet\",\"marker\":{\"colorbar\":{\"outlinewidth\":0,\"ticks\":\"\"}}}],\"carpet\":[{\"aaxis\":{\"endlinecolor\":\"#2a3f5f\",\"gridcolor\":\"white\",\"linecolor\":\"white\",\"minorgridcolor\":\"white\",\"startlinecolor\":\"#2a3f5f\"},\"baxis\":{\"endlinecolor\":\"#2a3f5f\",\"gridcolor\":\"white\",\"linecolor\":\"white\",\"minorgridcolor\":\"white\",\"startlinecolor\":\"#2a3f5f\"},\"type\":\"carpet\"}],\"table\":[{\"cells\":{\"fill\":{\"color\":\"#EBF0F8\"},\"line\":{\"color\":\"white\"}},\"header\":{\"fill\":{\"color\":\"#C8D4E3\"},\"line\":{\"color\":\"white\"}},\"type\":\"table\"}],\"barpolar\":[{\"marker\":{\"line\":{\"color\":\"#E5ECF6\",\"width\":0.5},\"pattern\":{\"fillmode\":\"overlay\",\"size\":10,\"solidity\":0.2}},\"type\":\"barpolar\"}],\"pie\":[{\"automargin\":true,\"type\":\"pie\"}]},\"layout\":{\"autotypenumbers\":\"strict\",\"colorway\":[\"#636efa\",\"#EF553B\",\"#00cc96\",\"#ab63fa\",\"#FFA15A\",\"#19d3f3\",\"#FF6692\",\"#B6E880\",\"#FF97FF\",\"#FECB52\"],\"font\":{\"color\":\"#2a3f5f\"},\"hovermode\":\"closest\",\"hoverlabel\":{\"align\":\"left\"},\"paper_bgcolor\":\"white\",\"plot_bgcolor\":\"#E5ECF6\",\"polar\":{\"bgcolor\":\"#E5ECF6\",\"angularaxis\":{\"gridcolor\":\"white\",\"linecolor\":\"white\",\"ticks\":\"\"},\"radialaxis\":{\"gridcolor\":\"white\",\"linecolor\":\"white\",\"ticks\":\"\"}},\"ternary\":{\"bgcolor\":\"#E5ECF6\",\"aaxis\":{\"gridcolor\":\"white\",\"linecolor\":\"white\",\"ticks\":\"\"},\"baxis\":{\"gridcolor\":\"white\",\"linecolor\":\"white\",\"ticks\":\"\"},\"caxis\":{\"gridcolor\":\"white\",\"linecolor\":\"white\",\"ticks\":\"\"}},\"coloraxis\":{\"colorbar\":{\"outlinewidth\":0,\"ticks\":\"\"}},\"colorscale\":{\"sequential\":[[0.0,\"#0d0887\"],[0.1111111111111111,\"#46039f\"],[0.2222222222222222,\"#7201a8\"],[0.3333333333333333,\"#9c179e\"],[0.4444444444444444,\"#bd3786\"],[0.5555555555555556,\"#d8576b\"],[0.6666666666666666,\"#ed7953\"],[0.7777777777777778,\"#fb9f3a\"],[0.8888888888888888,\"#fdca26\"],[1.0,\"#f0f921\"]],\"sequentialminus\":[[0.0,\"#0d0887\"],[0.1111111111111111,\"#46039f\"],[0.2222222222222222,\"#7201a8\"],[0.3333333333333333,\"#9c179e\"],[0.4444444444444444,\"#bd3786\"],[0.5555555555555556,\"#d8576b\"],[0.6666666666666666,\"#ed7953\"],[0.7777777777777778,\"#fb9f3a\"],[0.8888888888888888,\"#fdca26\"],[1.0,\"#f0f921\"]],\"diverging\":[[0,\"#8e0152\"],[0.1,\"#c51b7d\"],[0.2,\"#de77ae\"],[0.3,\"#f1b6da\"],[0.4,\"#fde0ef\"],[0.5,\"#f7f7f7\"],[0.6,\"#e6f5d0\"],[0.7,\"#b8e186\"],[0.8,\"#7fbc41\"],[0.9,\"#4d9221\"],[1,\"#276419\"]]},\"xaxis\":{\"gridcolor\":\"white\",\"linecolor\":\"white\",\"ticks\":\"\",\"title\":{\"standoff\":15},\"zerolinecolor\":\"white\",\"automargin\":true,\"zerolinewidth\":2},\"yaxis\":{\"gridcolor\":\"white\",\"linecolor\":\"white\",\"ticks\":\"\",\"title\":{\"standoff\":15},\"zerolinecolor\":\"white\",\"automargin\":true,\"zerolinewidth\":2},\"scene\":{\"xaxis\":{\"backgroundcolor\":\"#E5ECF6\",\"gridcolor\":\"white\",\"linecolor\":\"white\",\"showbackground\":true,\"ticks\":\"\",\"zerolinecolor\":\"white\",\"gridwidth\":2},\"yaxis\":{\"backgroundcolor\":\"#E5ECF6\",\"gridcolor\":\"white\",\"linecolor\":\"white\",\"showbackground\":true,\"ticks\":\"\",\"zerolinecolor\":\"white\",\"gridwidth\":2},\"zaxis\":{\"backgroundcolor\":\"#E5ECF6\",\"gridcolor\":\"white\",\"linecolor\":\"white\",\"showbackground\":true,\"ticks\":\"\",\"zerolinecolor\":\"white\",\"gridwidth\":2}},\"shapedefaults\":{\"line\":{\"color\":\"#2a3f5f\"}},\"annotationdefaults\":{\"arrowcolor\":\"#2a3f5f\",\"arrowhead\":0,\"arrowwidth\":1},\"geo\":{\"bgcolor\":\"white\",\"landcolor\":\"#E5ECF6\",\"subunitcolor\":\"white\",\"showland\":true,\"showlakes\":true,\"lakecolor\":\"white\"},\"title\":{\"x\":0.05},\"mapbox\":{\"style\":\"light\"}}},\"scene\":{\"domain\":{\"x\":[0.0,1.0],\"y\":[0.0,1.0]},\"xaxis\":{\"title\":{\"text\":\"x\"}},\"yaxis\":{\"title\":{\"text\":\"y\"}},\"zaxis\":{\"title\":{\"text\":\"z\"}}},\"legend\":{\"title\":{\"text\":\"elements\"},\"tracegroupgap\":0},\"margin\":{\"t\":60}},                        {\"responsive\": true}                    ).then(function(){\n",
       "                            \n",
       "var gd = document.getElementById('c5b81d00-849f-49a1-8634-4c3ab07a2021');\n",
       "var x = new MutationObserver(function (mutations, observer) {{\n",
       "        var display = window.getComputedStyle(gd).display;\n",
       "        if (!display || display === 'none') {{\n",
       "            console.log([gd, 'removed!']);\n",
       "            Plotly.purge(gd);\n",
       "            observer.disconnect();\n",
       "        }}\n",
       "}});\n",
       "\n",
       "// Listen for the removal of the full notebook cells\n",
       "var notebookContainer = gd.closest('#notebook-container');\n",
       "if (notebookContainer) {{\n",
       "    x.observe(notebookContainer, {childList: true});\n",
       "}}\n",
       "\n",
       "// Listen for the clearing of the current output cell\n",
       "var outputEl = gd.closest('.output');\n",
       "if (outputEl) {{\n",
       "    x.observe(outputEl, {childList: true});\n",
       "}}\n",
       "\n",
       "                        })                };                });            </script>        </div>"
      ]
     },
     "metadata": {},
     "output_type": "display_data"
    }
   ],
   "source": [
    "# Visualize a random amino acid\n",
    "import plotly.express as px\n",
    "\n",
    "print(structural_spherical_df)\n",
    "res1 = structural_spherical_df['res_id'][0]\n",
    "res = structural_spherical_df[structural_spherical_df['res_id'] == res1][structural_spherical_df['elements'] != '']\n",
    "fig = px.scatter_3d(res,x='x',y='y',z='z',text=\"atom_names\",color='elements')\n",
    "# fig.update_layout(title=res['aa'].to_numpy()[0])\n",
    "fig.show()"
   ]
  },
  {
   "cell_type": "code",
   "execution_count": 21,
   "id": "13311107-8288-4e9c-8cba-930b4c41074b",
   "metadata": {},
   "outputs": [
    {
     "data": {
      "text/plain": [
       "<BarContainer object of 20 artists>"
      ]
     },
     "execution_count": 21,
     "metadata": {},
     "output_type": "execute_result"
    },
    {
     "data": {
      "image/png": "[encoded data removed]",
      "text/plain": [
       "<Figure size 432x288 with 1 Axes>"
      ]
     },
     "metadata": {
      "needs_background": "light"
     },
     "output_type": "display_data"
    }
   ],
   "source": [
    "# Amino Acid counts\n",
    "aas,counts = np.unique(val_aas['res_id'][:,0],return_counts=True)\n",
    "plt.barh(aas[1:],counts[1:]/np.sum(counts[1:]))"
   ]
  },
  {
   "cell_type": "code",
   "execution_count": 22,
   "id": "fd084a20-f811-48c8-b6bd-3df91e648652",
   "metadata": {},
   "outputs": [
    {
     "name": "stdout",
     "output_type": "stream",
     "text": [
      "/gscratch/spe/uwagura/miniconda3/envs/prot_processing_env/lib/python3.8/site-packages/scipy/__init__.py:146: UserWarning: A NumPy version >=1.16.5 and <1.23.0 is required for this version of SciPy (detected version 1.23.1\n",
      "  warnings.warn(f\"A NumPy version >={np_minversion} and <{np_maxversion}\"\n",
      "200000\n",
      "../output/aa_info_naive.hdf5\n",
      "[('0', '<c8', (147, 1)), ('1', '<c8', (147, 3)), ('2', '<c8', (147, 5)), ('3', '<c8', (147, 7)), ('4', '<c8', (147, 9)), ('5', '<c8', (147, 11)), ('6', '<c8', (147, 13)), ('7', '<c8', (147, 15)), ('8', '<c8', (147, 17)), ('9', '<c8', (147, 19)), ('10', '<c8', (147, 21))]\n",
      "200000\n",
      "writing hdf5 file\n",
      "calling parallel process\n",
      "\u001b[KProcessing |                                | 0.0%Data size = 200000, cpus = 52, chunksize = 3847\n",
      "\u001b[KProcessing |################################| 100.0%ocessing |                                | 0.7%Processing |                                | 1.7%Processing |#                               | 4.4%Processing |##                              | 7.3%Processing |##                              | 7.5%Processing |##                              | 8.7%Processing |##                              | 8.8%Processing |###                             | 10.2%Processing |###                             | 10.8%Processing |###                             | 11.0%Processing |###                             | 11.0%Processing |###                             | 11.2%Processing |###                             | 11.6%Processing |###                             | 11.8%Processing |###                             | 11.9%Processing |####                            | 12.8%Processing |####                            | 13.2%Processing |####                            | 14.0%Processing |####                            | 14.3%Processing |####                            | 15.4%Processing |#####                           | 15.8%Processing |#####                           | 16.1%Processing |#####                           | 17.2%Processing |#####                           | 17.9%Processing |######                          | 19.2%Processing |###############                 | 48.5%Processing |###################             | 59.9%Processing |##########################      | 82.5%Processing |############################### | 98.5%\n",
      "200000\n",
      "Done with parallel computing\n",
      "\u001b[?25h"
     ]
    }
   ],
   "source": [
    "# Convert Amino Acids to holograms\n",
    "#with h5py.File(\"../output/holograms.hdf5\",\"w\") as holograms: \n",
    "    #holo_set = holograms.create_dataset(\"zernike_list\", shape = len(control_proteins))\n",
    "ROS_PYTHON = '/gscratch/spe/uwagura/miniconda3/envs/prot_processing_env/bin/python'    \n",
    "#!{ROS_PYTHON} /gscratch/spe/uwagura/tutorials/protein_holography/protein_holography/coordinates/get_zernikegrams.py --hdf5_out ../output/holograms.hdf5 --neighborhood_list pdb_list_control --parallelism 20 --hdf5_in ../output/aa_info.hdf5 --Lmax 10 -k 0 1 2 3 4 5 6 7 8 9 10 11 12 13 14 15 16 17 18 19 20 --r_max 10. --num_nhs 200000\n",
    "!{ROS_PYTHON} /gscratch/spe/uwagura/tutorials/protein_holography/protein_holography/coordinates/get_zernikegrams.py --hdf5_out ../output/holograms_naive.hdf5 --neighborhood_list pdb_list_naive --parallelism 20 --hdf5_in ../output/aa_info_naive.hdf5 --Lmax 10 -k 0 1 2 3 4 5 6 7 8 9 10 11 12 13 14 15 16 17 18 19 20 --r_max 10. --num_nhs 200000\n",
    "\n"
   ]
  },
  {
   "cell_type": "code",
   "execution_count": 23,
   "id": "693436fe-dceb-4f28-86c8-3813cb3fba3e",
   "metadata": {},
   "outputs": [
    {
     "name": "stdout",
     "output_type": "stream",
     "text": [
      "Datasets in hdf5 file:\n",
      "nh_list\n",
      "pdb_list_naive\n",
      "\n",
      "\n",
      "dtype of the zernikegrams = [('0', '<c8', (147, 1)), ('1', '<c8', (147, 3)), ('2', '<c8', (147, 5)), ('3', '<c8', (147, 7)), ('4', '<c8', (147, 9)), ('5', '<c8', (147, 11)), ('6', '<c8', (147, 13)), ('7', '<c8', (147, 15)), ('8', '<c8', (147, 17)), ('9', '<c8', (147, 19)), ('10', '<c8', (147, 21))]\n"
     ]
    }
   ],
   "source": [
    "# Sanity check, and prepare for zernikegreams\n",
    "# with h5py.File('../output/holograms.hdf5','r') as f:\n",
    "#     print('Datasets in hdf5 file:')\n",
    "#     f.visit(lambda x: print(x))\n",
    "#     print('\\n')\n",
    "#     print('dtype of the zernikegrams =',f['pdb_list_control'].dtype)\n",
    "\n",
    "#     val_zernikegrams = f['pdb_list_control'][:]\n",
    "    \n",
    "with h5py.File('../output/holograms_naive.hdf5','r') as f:\n",
    "    print('Datasets in hdf5 file:')\n",
    "    f.visit(lambda x: print(x))\n",
    "    print('\\n')\n",
    "    print('dtype of the zernikegrams =',f['pdb_list_naive'].dtype)\n",
    "\n",
    "    val_zernikegrams = f['pdb_list_naive'][:]    "
   ]
  },
  {
   "cell_type": "markdown",
   "id": "c6757056-ea81-4a7a-ba52-86ceb8d3c0e4",
   "metadata": {},
   "source": [
    "**NOTE**: A lot of plotting happended between generating holgrams and declaring the network which you should probably review"
   ]
  },
  {
   "cell_type": "code",
   "execution_count": null,
   "id": "300cff49-cee3-438e-ac2d-41a73ffa6e4e",
   "metadata": {},
   "outputs": [],
   "source": [
    "# The aforementioned plotting\n",
    "spherical_points = structural_spherical_df[structural_spherical_df['elements'] != ''][structural_spherical_df['res_id'] == res1][structural_spherical_df['elements'] == 'C'][['r','t','p']].to_numpy()\n",
    "spherical_points[:,0] = spherical_points[:,0]/10."
   ]
  },
  {
   "cell_type": "code",
   "execution_count": 14,
   "id": "8d5b7fea-2374-46e0-b696-1093363029aa",
   "metadata": {},
   "outputs": [],
   "source": [
    "carbon_example = {}\n",
    "for l in range(10 + 1):\n",
    "    carbon_example[l] = val_zernikegrams[0][str(l)][:21]"
   ]
  },
  {
   "cell_type": "code",
   "execution_count": 12,
   "id": "9696f5ce-150b-4fb2-a7f4-408c128069c2",
   "metadata": {},
   "outputs": [
    {
     "name": "stderr",
     "output_type": "stream",
     "text": [
      "\n",
      "KeyboardInterrupt\n",
      "\n"
     ]
    }
   ],
   "source": [
    "# Phi vs Theta plots\n",
    "n_max = 20\n",
    "l_max = 5\n",
    "coeffs = carbon_example\n",
    "\n",
    "n_points = 11 #len(spherical_points) # Notes that this is an absurdly large number, most of this code may not be useful at the moment\n",
    "fig,axes = plt.subplots(int(n_points/2)+1,2,figsize=(10,7),dpi=100,)\n",
    "max_val = 0.\n",
    "# fig.set_layout('tight')\n",
    "N = 50 # number of points in plot\n",
    "\n",
    "for j,R in enumerate(spherical_points[0:6,0]):\n",
    "    func = np.zeros(shape=(N))\n",
    "    t = spherical_points[j,1]\n",
    "    p = spherical_points[j,2]\n",
    "#     print(t,p,R)\n",
    "    for i,r in enumerate(np.linspace(0.,.9999,N)):\n",
    "        \n",
    "        total = 0\n",
    "        for n in range(n_max):\n",
    "            for l in range(l_max):\n",
    "                for im,m in enumerate(range(-l,l+1)):\n",
    "                    func[i] += np.conjugate(zernike_coeff_lm(r,t,p,n,1.,l,m)) * coeffs[l][n][im]\n",
    "        #mesh[i,j] = total\n",
    "    max_val = np.max((max_val,np.max(np.abs(func))))\n",
    "    axes[j//2,j%2].plot(np.linspace(0,1.,50),np.abs(func))\n",
    "    axes[j//2,j%2].axvline(x=R)\n",
    "    axes[j//2,j%2].set_xlabel('r')\n",
    "    axes[j//2,j%2].set_ylabel('|f|')\n",
    "    axes[j//2,j%2].set_title(r'$\\theta = {1:.3f}, \\phi = {0:.3f}$'.format(p,t))\n",
    "plt.tight_layout()\n",
    "plt.show();"
   ]
  },
  {
   "cell_type": "code",
   "execution_count": 14,
   "id": "d62a0ef4-6080-4e4a-ad02-2b3df2ad56a8",
   "metadata": {},
   "outputs": [],
   "source": [
    "# More Plotting. Be carefule not to run this code over all of spherical points, as this is a massive set. \n",
    "\n",
    "# def highlight_cell(x,y, ax=None, **kwargs):\n",
    "#     rect = plt.Rectangle((x-.5, y-.5), 1,1, fill=False, **kwargs)\n",
    "#     ax = ax or plt.gca()\n",
    "#     ax.add_patch(rect)\n",
    "#     return rect\n",
    "\n",
    "# order = np.argsort(np.squeeze(spherical_points[:,0]))\n",
    "# sorted_radii = spherical_points[:,0][order]\n",
    "# sorted_thetas = spherical_points[:,1][order]\n",
    "# sorted_phis = spherical_points[:,2][order]\n",
    "# nth = 15\n",
    "# nphi = 30\n",
    "# n_slices = 10#len(spherical_points)\n",
    "\n",
    "# bottom, top = 0.1, 0.9\n",
    "# left, right = 0.1, 0.8\n",
    "\n",
    "# fig,axes = plt.subplots(int(n_slices/2),2,figsize=(10,20),dpi=100,)\n",
    "# fig.subplots_adjust(top=top, bottom=bottom, left=left, right=right, hspace=0.15, wspace=0.25)\n",
    "\n",
    "# for k,r in enumerate(np.linspace(0,.99999,n_slices)):\n",
    "#     t_ = np.linspace(0,math.pi,nth)\n",
    "#     p_ = np.linspace(0,math.pi*2.,nphi)\n",
    "#     mesh = np.zeros(shape=(nth,nphi),dtype=complex)\n",
    "#     tp_mesh = np.meshgrid(t_,p_)\n",
    "#     for i,t in enumerate(t_):\n",
    "#         for j,p in enumerate(p_):\n",
    "#             total = 0\n",
    "#             for n in range(n_max):\n",
    "#                 for l in range(l_max):\n",
    "#                     for im,m in enumerate(range(-l,l+1)):\n",
    "#                         total += (np.conjugate(zernike_coeff_lm(r,t,p,n,1.,l,m)) *\n",
    "#                                   coeffs[l][n][im])\n",
    "#             mesh[i,j] = total\n",
    "#     im = axes[k//2,k%2].imshow(np.abs(mesh),\n",
    "#                                vmin=0.,vmax=max_val,\n",
    "#                                #extent=[0.05,0.9,1,0.05]\n",
    "#                               )\n",
    "#     ax = axes.flat[k]\n",
    "#     ax.set_xlabel(r'$\\phi$')\n",
    "#     ax.set_ylabel(r'$\\theta$')\n",
    "#     ax.set_title(r'r = {}'.format(r))\n",
    "#     ax.set_xticks(np.arange(5)*nphi/4.)\n",
    "#     ax.set_xticklabels([r'${}\\pi/{}$'.format(i,2) for i in range(5)])\n",
    "#     ax.set_yticks(np.arange(5)*nth/4.)\n",
    "#     ax.set_yticklabels([r'${}\\pi/{}$'.format(i,4) for i in range(5)])\n",
    "#     for x in np.argwhere(np.abs(sorted_radii - r) < .1)[:,0]:\n",
    "#         t = sorted_thetas[x]\n",
    "#         p = sorted_phis[x]\n",
    "#         cell_x = int(p/(2*np.pi/nphi))%nphi\n",
    "#         cell_y = int(t/(np.pi/nth))%nth\n",
    "#         highlight_cell(cell_x,cell_y,ax=axes[k//2,k%2],color='red')\n",
    "# cbar_ax = fig.add_axes([0.85, 0.15, 0.02, 0.7])\n",
    "# fig.colorbar(im, cax=cbar_ax)\n",
    "# # plt.tight_layout()\n",
    "# plt.show();"
   ]
  },
  {
   "cell_type": "code",
   "execution_count": 24,
   "id": "b134d736-e1ac-4147-84b9-f699782c72cf",
   "metadata": {},
   "outputs": [
    {
     "name": "stderr",
     "output_type": "stream",
     "text": [
      "2022-08-15 16:03:30.043972: I tensorflow/core/util/util.cc:169] oneDNN custom operations are on. You may see slightly different numerical results due to floating-point round-off errors from different computation orders. To turn them off, set the environment variable `TF_ENABLE_ONEDNN_OPTS=0`.\n",
      "2022-08-15 16:03:30.777090: W tensorflow/stream_executor/platform/default/dso_loader.cc:64] Could not load dynamic library 'libcudart.so.11.0'; dlerror: libcudart.so.11.0: cannot open shared object file: No such file or directory\n",
      "2022-08-15 16:03:30.777113: I tensorflow/stream_executor/cuda/cudart_stub.cc:29] Ignore above cudart dlerror if you do not have a GPU set up on your machine.\n"
     ]
    }
   ],
   "source": [
    "# Import Libraries to run network\n",
    "import tensorflow as tf\n",
    "import sys\n",
    "sys.path.append(\"/gscratch/spe/mpun/protein_holography/network\")\n",
    "import hnn\n",
    "import clebsch\n",
    "import os\n",
    "from tqdm import tqdm"
   ]
  },
  {
   "cell_type": "code",
   "execution_count": 26,
   "id": "5706858d-a6a5-405d-baf1-f8d452111139",
   "metadata": {},
   "outputs": [
    {
     "name": "stdout",
     "output_type": "stream",
     "text": [
      "('S5', (6,))\n"
     ]
    }
   ],
   "source": [
    "# with h5py.File('../output/holograms.hdf5','r') as f:\n",
    "#     print(f['nh_list'].dtype)\n",
    "    \n",
    "with h5py.File('../output/holograms_naive.hdf5','r') as f:\n",
    "    print(f['nh_list'].dtype)    "
   ]
  },
  {
   "cell_type": "code",
   "execution_count": 27,
   "id": "393f92ae-5f5a-4c48-b3a7-ccd3c5a42589",
   "metadata": {},
   "outputs": [
    {
     "name": "stdout",
     "output_type": "stream",
     "text": [
      "nh_list\n",
      "pdb_list_naive\n",
      "[b'M' b'D' b'I' ... b'K' b'V' b'E']\n"
     ]
    },
    {
     "name": "stderr",
     "output_type": "stream",
     "text": [
      "100%|██████████████████████████████| 5499/5499 [00:00<00:00, 2119507.23it/s]\n",
      "2022-08-15 16:05:45.926020: W tensorflow/stream_executor/platform/default/dso_loader.cc:64] Could not load dynamic library 'libcudart.so.11.0'; dlerror: libcudart.so.11.0: cannot open shared object file: No such file or directory\n",
      "2022-08-15 16:05:45.926124: W tensorflow/stream_executor/platform/default/dso_loader.cc:64] Could not load dynamic library 'libcublas.so.11'; dlerror: libcublas.so.11: cannot open shared object file: No such file or directory\n",
      "2022-08-15 16:05:45.926174: W tensorflow/stream_executor/platform/default/dso_loader.cc:64] Could not load dynamic library 'libcublasLt.so.11'; dlerror: libcublasLt.so.11: cannot open shared object file: No such file or directory\n",
      "2022-08-15 16:05:45.926222: W tensorflow/stream_executor/platform/default/dso_loader.cc:64] Could not load dynamic library 'libcufft.so.10'; dlerror: libcufft.so.10: cannot open shared object file: No such file or directory\n",
      "2022-08-15 16:05:45.926270: W tensorflow/stream_executor/platform/default/dso_loader.cc:64] Could not load dynamic library 'libcurand.so.10'; dlerror: libcurand.so.10: cannot open shared object file: No such file or directory\n",
      "2022-08-15 16:05:45.926315: W tensorflow/stream_executor/platform/default/dso_loader.cc:64] Could not load dynamic library 'libcusolver.so.11'; dlerror: libcusolver.so.11: cannot open shared object file: No such file or directory\n",
      "2022-08-15 16:05:45.926362: W tensorflow/stream_executor/platform/default/dso_loader.cc:64] Could not load dynamic library 'libcusparse.so.11'; dlerror: libcusparse.so.11: cannot open shared object file: No such file or directory\n",
      "2022-08-15 16:05:45.926416: W tensorflow/stream_executor/platform/default/dso_loader.cc:64] Could not load dynamic library 'libcudnn.so.8'; dlerror: libcudnn.so.8: cannot open shared object file: No such file or directory\n",
      "2022-08-15 16:05:45.926438: W tensorflow/core/common_runtime/gpu/gpu_device.cc:1850] Cannot dlopen some GPU libraries. Please make sure the missing libraries mentioned above are installed properly if you would like to use GPU. Follow the guide at https://www.tensorflow.org/install/gpu for how to download and setup the required libraries for your platform.\n",
      "Skipping registering GPU devices...\n",
      "2022-08-15 16:05:45.927588: I tensorflow/core/platform/cpu_feature_guard.cc:193] This TensorFlow binary is optimized with oneAPI Deep Neural Network Library (oneDNN) to use the following CPU instructions in performance-critical operations:  AVX2 AVX512F AVX512_VNNI FMA\n",
      "To enable them in other operations, rebuild TensorFlow with the appropriate compiler flags.\n"
     ]
    }
   ],
   "source": [
    "# # Prepare data for network\n",
    "# with h5py.File('../output/holograms.hdf5','r') as f:\n",
    "#     f.visit(lambda x: print(x))\n",
    "#     nh_list = f['nh_list'][:]\n",
    "#     num_nhs = np.min(np.argwhere(nh_list[:,0] == b''))\n",
    "#     holo_zernikegrams = f['pdb_list_control'][\n",
    "#         np.logical_and.reduce(\n",
    "#             (nh_list[:,0] != b'',\n",
    "#              nh_list[:,0] != b'X',\n",
    "#              nh_list[:,0] != b'Z')\n",
    "#         )\n",
    "\n",
    "#     ]\n",
    "#     print(nh_list[:num_nhs,0])\n",
    "    \n",
    "#     holo_labels = [aa_to_ind_size[one_letter_to_aa[x.decode('utf-8')]] for x in tqdm(nh_list[:num_nhs,0]) if x not in [b'',b'X',b'Z']]\n",
    "#     holo_one_hot = np.zeros(shape=(len(holo_labels),20))\n",
    "#     holo_one_hot[np.arange(len(holo_labels)),holo_labels] = 1.\n",
    "# holo_zernikegrams_dict = {}\n",
    "# L_max = 5\n",
    "# for l in range(L_max + 1):\n",
    "#     holo_zernikegrams_dict[l] = holo_zernikegrams[str(l)]\n",
    "# holo_ds_ordered = tf.data.Dataset.from_tensor_slices((holo_zernikegrams_dict,holo_one_hot))\n",
    "# holo_ds_shuffled = holo_ds_ordered.shuffle(len(holo_labels))\n",
    "\n",
    "# Prepare data for network\n",
    "with h5py.File('../output/holograms_naive.hdf5','r') as f:\n",
    "    f.visit(lambda x: print(x))\n",
    "    nh_list = f['nh_list'][:]\n",
    "    num_nhs = np.min(np.argwhere(nh_list[:,0] == b''))\n",
    "    holo_zernikegrams = f['pdb_list_naive'][\n",
    "        np.logical_and.reduce(\n",
    "            (nh_list[:,0] != b'',\n",
    "             nh_list[:,0] != b'X',\n",
    "             nh_list[:,0] != b'Z')\n",
    "        )\n",
    "\n",
    "    ]\n",
    "    print(nh_list[:num_nhs,0])\n",
    "    \n",
    "    holo_labels = [aa_to_ind_size[one_letter_to_aa[x.decode('utf-8')]] for x in tqdm(nh_list[:num_nhs,0]) if x not in [b'',b'X',b'Z']]\n",
    "    holo_one_hot = np.zeros(shape=(len(holo_labels),20))\n",
    "    holo_one_hot[np.arange(len(holo_labels)),holo_labels] = 1.\n",
    "holo_zernikegrams_dict = {}\n",
    "L_max = 5\n",
    "for l in range(L_max + 1):\n",
    "    holo_zernikegrams_dict[l] = holo_zernikegrams[str(l)]\n",
    "holo_ds_ordered = tf.data.Dataset.from_tensor_slices((holo_zernikegrams_dict,holo_one_hot))\n",
    "holo_ds_shuffled = holo_ds_ordered.shuffle(len(holo_labels))"
   ]
  },
  {
   "cell_type": "code",
   "execution_count": 28,
   "id": "b425036c-1594-499a-8228-bf7c580733ea",
   "metadata": {},
   "outputs": [
    {
     "data": {
      "text/plain": [
       "(5499, 147, 1)"
      ]
     },
     "execution_count": 28,
     "metadata": {},
     "output_type": "execute_result"
    }
   ],
   "source": [
    "holo_zernikegrams_dict[0].shape"
   ]
  },
  {
   "cell_type": "code",
   "execution_count": 29,
   "id": "ea0fe058-8591-499b-959b-4df9c3d2b64f",
   "metadata": {},
   "outputs": [
    {
     "data": {
      "text/plain": [
       "array([[0., 0., 0., ..., 0., 0., 0.],\n",
       "       [0., 0., 0., ..., 0., 0., 0.],\n",
       "       [0., 0., 0., ..., 0., 0., 0.],\n",
       "       ...,\n",
       "       [0., 0., 0., ..., 1., 0., 0.],\n",
       "       [1., 0., 0., ..., 0., 0., 0.],\n",
       "       [0., 0., 0., ..., 0., 0., 0.]])"
      ]
     },
     "execution_count": 29,
     "metadata": {},
     "output_type": "execute_result"
    }
   ],
   "source": [
    "holo_one_hot"
   ]
  },
  {
   "cell_type": "code",
   "execution_count": 29,
   "id": "43a8f287-80c4-4990-b7f3-f77a745c225b",
   "metadata": {},
   "outputs": [
    {
     "name": "stdout",
     "output_type": "stream",
     "text": [
      "hnn n classes = 20\n",
      "[<linearity.Linearity object at 0x14fb7c02ce20>, <spherical_batch_norm.SphericalBatchNorm object at 0x15028df96b80>, <nonlinearity.Nonlinearity object at 0x14fb701ab520>, <linearity.Linearity object at 0x14fb70176d90>, <spherical_batch_norm.SphericalBatchNorm object at 0x14fb701193d0>, <nonlinearity.Nonlinearity object at 0x14fb701197f0>, <linearity.Linearity object at 0x14fb701260a0>, <spherical_batch_norm.SphericalBatchNorm object at 0x14fb701266a0>, <nonlinearity.Nonlinearity object at 0x14fb70126ac0>, <keras.layers.regularization.dropout.Dropout object at 0x14fb7c02c2b0>, <keras.layers.core.dense.Dense object at 0x14fb70132a60>, <keras.layers.regularization.dropout.Dropout object at 0x14fb70132a30>, <keras.layers.core.dense.Dense object at 0x14fb700da070>, <keras.layers.regularization.dropout.Dropout object at 0x14fb70132370>, <keras.layers.core.dense.Dense object at 0x14fb700da610>]\n"
     ]
    }
   ],
   "source": [
    "# Load network\n",
    "saved_network = ('bsize=256_ch=proper_dense_d=10_d=10.0'\n",
    "                 '_dropout_rate=0.0121_hdim=16_k=0j+20+0j'\n",
    "                 '_l=5_learnrate=0.001_n_dense=3_netL=5_nlayers=3'\n",
    "                 '_opt=Adam_proj=zgram_reg_strength=3.24e-11_rmax=10.0_scale=1.0')\n",
    "                 \n",
    "netL = int(saved_network.split('netL=')[1].split('_')[0])\n",
    "l = int(saved_network.split('l=')[1].split('_')[0])\n",
    "k = range(21)\n",
    "projection = 'zgram'\n",
    "e = 10000\n",
    "eVal = 128\n",
    "nlayers = int(saved_network.split('nlayers=')[1].split('_')[0])\n",
    "hdim = int(saved_network.split('hdim=')[1].split('_')[0])\n",
    "learnrate = float(saved_network.split('learnrate=')[1].split('_')[0])\n",
    "bsize = int(saved_network.split('bsize=')[1].split('_')[0])\n",
    "rmax = 10.\n",
    "scale = 1.\n",
    "dropout = float(saved_network.split('dropout_rate=')[1].split('_')[0])\n",
    "reg = float(saved_network.split('reg_strength=')[1].split('_')[0])\n",
    "n_dense = int(saved_network.split('n_dense=')[1].split('_')[0])\n",
    "ch = 'casp12'\n",
    "d = 10.\n",
    "\n",
    "nclasses=20\n",
    "\n",
    "sys.path.append(\"/gscratch/spe/mpun/protein_holography/network\")\n",
    "import hnn as hnn\n",
    "import clebsch\n",
    "\n",
    "datadir = '/gscratch/spe/mpun/protein_holography/data'\n",
    "cg_file = os.path.join(datadir, \"CG_matrix_l=13.npy\")\n",
    "tf_cg_matrices = clebsch.load_clebsch(cg_file, netL)\n",
    "\n",
    "hidden_l_dims = [[hdim] * (netL + 1)] * nlayers\n",
    "\n",
    "network = hnn.hnn(netL,hidden_l_dims,nlayers,\n",
    "                  nclasses,tf_cg_matrices,n_dense,\n",
    "                  reg,dropout,scale,\n",
    "                  connection='full'\n",
    "                 )\n",
    "\n",
    "optimizer = tf.keras.optimizers.Adam()\n",
    "#tf.function\n",
    "def loss_fn(truth, pred):\n",
    "    return tf.nn.softmax_cross_entropy_with_logits(\n",
    "        labels = truth,\n",
    "        logits = pred)\n",
    "\n",
    "network.compile(optimizer=optimizer,\n",
    "                loss=loss_fn,\n",
    "                metrics =['categorical_accuracy'])"
   ]
  },
  {
   "cell_type": "code",
   "execution_count": 33,
   "id": "96709c5a-410a-4ffc-bb1a-d21ed6a22fc3",
   "metadata": {},
   "outputs": [
    {
     "name": "stdout",
     "output_type": "stream",
     "text": [
      "<ShuffleDataset element_spec=({0: TensorSpec(shape=(147, 1), dtype=tf.complex64, name=None), 1: TensorSpec(shape=(147, 3), dtype=tf.complex64, name=None), 2: TensorSpec(shape=(147, 5), dtype=tf.complex64, name=None), 3: TensorSpec(shape=(147, 7), dtype=tf.complex64, name=None), 4: TensorSpec(shape=(147, 9), dtype=tf.complex64, name=None), 5: TensorSpec(shape=(147, 11), dtype=tf.complex64, name=None)}, TensorSpec(shape=(20,), dtype=tf.float64, name=None))>\n"
     ]
    }
   ],
   "source": [
    "print(holo_ds_shuffled)\n"
   ]
  },
  {
   "cell_type": "code",
   "execution_count": 30,
   "id": "f6ae3d5c-32bb-4442-98db-9f4164d5e6eb",
   "metadata": {},
   "outputs": [
    {
     "name": "stdout",
     "output_type": "stream",
     "text": [
      "full\n",
      "full\n",
      "full\n",
      "1/1 [==============================] - 15s 15s/step - loss: 3042699640832.0000 - categorical_accuracy: 0.0312\n"
     ]
    },
    {
     "data": {
      "text/plain": [
       "[3042699640832.0, 0.03125]"
      ]
     },
     "execution_count": 30,
     "metadata": {},
     "output_type": "execute_result"
    }
   ],
   "source": [
    "network.evaluate(holo_ds_ordered.batch(64).take(1),verbose=1)"
   ]
  },
  {
   "cell_type": "code",
   "execution_count": 31,
   "id": "7241f54f-d55f-4727-8af5-c9738af5e56a",
   "metadata": {},
   "outputs": [
    {
     "data": {
      "text/plain": [
       "<tensorflow.python.training.tracking.util.CheckpointLoadStatus at 0x14fbab987040>"
      ]
     },
     "execution_count": 31,
     "metadata": {},
     "output_type": "execute_result"
    }
   ],
   "source": [
    "#  Evaluate the Network\n",
    "network.load_weights('/gscratch/scrubbed/mpun/data/network_weights/' + saved_network)"
   ]
  },
  {
   "cell_type": "code",
   "execution_count": 36,
   "id": "2ebb2aa6-dbd3-416a-a91c-bb60ad8719e1",
   "metadata": {},
   "outputs": [
    {
     "data": {
      "text/plain": [
       "<hnn.hnn at 0x14c27f559220>"
      ]
     },
     "execution_count": 36,
     "metadata": {},
     "output_type": "execute_result"
    }
   ],
   "source": [
    "network"
   ]
  },
  {
   "cell_type": "code",
   "execution_count": null,
   "id": "3889ae84-66cd-4b52-8251-fd16ee89da72",
   "metadata": {},
   "outputs": [],
   "source": []
  },
  {
   "cell_type": "code",
   "execution_count": 32,
   "id": "d1bca801-b023-414a-a728-50da1dba9406",
   "metadata": {},
   "outputs": [
    {
     "name": "stdout",
     "output_type": "stream",
     "text": [
      "86/86 [==============================] - 14s 157ms/step - loss: 0.8113 - categorical_accuracy: 0.7430\n"
     ]
    }
   ],
   "source": [
    "# Fit Network to the training set\n",
    "# test_prediction = network.evaluate(holo_ds_ordered.batch(64),verbose=1)\n",
    "naive_prediction = network.evaluate(holo_ds_ordered.batch(64),verbose=1)"
   ]
  },
  {
   "cell_type": "code",
   "execution_count": 33,
   "id": "7f951978-471a-43b9-b939-e9012f51798e",
   "metadata": {},
   "outputs": [
    {
     "name": "stdout",
     "output_type": "stream",
     "text": [
      "86/86 [==============================] - 14s 154ms/step\n"
     ]
    }
   ],
   "source": [
    "# test_predict = network.predict(holo_ds_ordered.batch(64),verbose=1)\n",
    "naive_predict = network.predict(holo_ds_ordered.batch(64),verbose=1)"
   ]
  },
  {
   "cell_type": "code",
   "execution_count": 41,
   "id": "dcefbd2d-70f5-44ae-9ce9-b95be329c622",
   "metadata": {},
   "outputs": [],
   "source": [
    "np.save(\"control_group_predict.npy\",test_predict)\n",
    "np.save(\"control_group_evaluate.npy\",np.array(test_prediction))"
   ]
  },
  {
   "cell_type": "code",
   "execution_count": 34,
   "id": "39dbcc12-91fd-4d72-912b-ba856ef15fba",
   "metadata": {},
   "outputs": [],
   "source": [
    "np.save(\"naive_group_predict.npy\",naive_predict)\n",
    "np.save(\"naive_group_evaluate.npy\",np.array(naive_prediction))"
   ]
  },
  {
   "cell_type": "code",
   "execution_count": 3,
   "id": "38466e9e-aaf4-4816-aeba-3cdb927b9697",
   "metadata": {},
   "outputs": [],
   "source": [
    "predict_results = np.load(\"control_group_predict.npy\")"
   ]
  },
  {
   "cell_type": "code",
   "execution_count": 4,
   "id": "1bdfd5dd-b0dd-4fcc-841c-81ebc88345b6",
   "metadata": {},
   "outputs": [
    {
     "data": {
      "text/plain": [
       "(91828, 20)"
      ]
     },
     "execution_count": 4,
     "metadata": {},
     "output_type": "execute_result"
    }
   ],
   "source": [
    "predict_results.shape\n"
   ]
  },
  {
   "cell_type": "code",
   "execution_count": null,
   "id": "5e4cff2d-9540-40d7-9c57-0da07553f493",
   "metadata": {},
   "outputs": [],
   "source": []
  }
 ],
 "metadata": {
  "kernelspec": {
   "display_name": "prot_processing_env",
   "language": "python",
   "name": "prot_processing_env"
  },
  "language_info": {
   "codemirror_mode": {
    "name": "ipython",
    "version": 3
   },
   "file_extension": ".py",
   "mimetype": "text/x-python",
   "name": "python",
   "nbconvert_exporter": "python",
   "pygments_lexer": "ipython3",
   "version": "3.8.13"
  }
 },
 "nbformat": 4,
 "nbformat_minor": 5
}
